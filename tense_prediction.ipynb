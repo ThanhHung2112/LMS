{
  "cells": [
    {
      "cell_type": "markdown",
      "metadata": {
        "id": "view-in-github",
        "colab_type": "text"
      },
      "source": [
        "<a href=\"https://colab.research.google.com/github/ThanhHung2112/LMS/blob/main/tense_prediction.ipynb\" target=\"_parent\"><img src=\"https://colab.research.google.com/assets/colab-badge.svg\" alt=\"Open In Colab\"/></a>"
      ]
    },
    {
      "cell_type": "code",
      "execution_count": null,
      "metadata": {
        "colab": {
          "base_uri": "https://localhost:8080/"
        },
        "id": "M_vVdbNzf8Sx",
        "outputId": "f82c2ec8-20ae-4ecf-c972-03956affd03a"
      },
      "outputs": [
        {
          "name": "stdout",
          "output_type": "stream",
          "text": [
            "\u001b[2K     \u001b[90m━━━━━━━━━━━━━━━━━━━━━━━━━━━━━━━━━━━━━━━━\u001b[0m \u001b[32m7.7/7.7 MB\u001b[0m \u001b[31m45.7 MB/s\u001b[0m eta \u001b[36m0:00:00\u001b[0m\n",
            "\u001b[2K     \u001b[90m━━━━━━━━━━━━━━━━━━━━━━━━━━━━━━━━━━━━━━\u001b[0m \u001b[32m302.0/302.0 kB\u001b[0m \u001b[31m37.0 MB/s\u001b[0m eta \u001b[36m0:00:00\u001b[0m\n",
            "\u001b[2K     \u001b[90m━━━━━━━━━━━━━━━━━━━━━━━━━━━━━━━━━━━━━━━━\u001b[0m \u001b[32m3.8/3.8 MB\u001b[0m \u001b[31m79.7 MB/s\u001b[0m eta \u001b[36m0:00:00\u001b[0m\n",
            "\u001b[2K     \u001b[90m━━━━━━━━━━━━━━━━━━━━━━━━━━━━━━━━━━━━━━━━\u001b[0m \u001b[32m1.3/1.3 MB\u001b[0m \u001b[31m77.3 MB/s\u001b[0m eta \u001b[36m0:00:00\u001b[0m\n",
            "\u001b[2K     \u001b[90m━━━━━━━━━━━━━━━━━━━━━━━━━━━━━━━━━━━━━━\u001b[0m \u001b[32m295.0/295.0 kB\u001b[0m \u001b[31m33.6 MB/s\u001b[0m eta \u001b[36m0:00:00\u001b[0m\n",
            "\u001b[?25h"
          ]
        }
      ],
      "source": [
        "# pip install -q transformers"
      ]
    },
    {
      "cell_type": "code",
      "execution_count": null,
      "metadata": {
        "id": "NHMUMx6nftUb"
      },
      "outputs": [],
      "source": [
        "import numpy as np\n",
        "import pandas as pd\n",
        "import torch\n",
        "import torch.nn as nn\n",
        "from transformers import BertTokenizer, BertModel\n",
        "from sklearn.model_selection import train_test_split\n",
        "from sklearn.metrics import accuracy_score\n",
        "from transformers import BertForSequenceClassification, BertTokenizer, TrainingArguments, Trainer\n",
        "from torch.utils.data import DataLoader, TensorDataset"
      ]
    },
    {
      "cell_type": "code",
      "execution_count": null,
      "metadata": {
        "id": "flD4PZOdftUi"
      },
      "outputs": [],
      "source": [
        "# Khởi tạo BERT tokenizer và mô hình BERT\n",
        "tokenizer = BertTokenizer.from_pretrained('bert-base-uncased')\n",
        "bert_model = BertModel.from_pretrained('bert-base-uncased')"
      ]
    },
    {
      "cell_type": "code",
      "execution_count": null,
      "metadata": {
        "colab": {
          "base_uri": "https://localhost:8080/",
          "height": 423
        },
        "id": "YBRIW9xoftUj",
        "outputId": "11101214-7ca5-4b72-b508-94d93c0825ed"
      },
      "outputs": [
        {
          "data": {
            "text/html": [
              "\n",
              "  <div id=\"df-af54fae5-ef9b-43fd-b4d5-8932698f4296\" class=\"colab-df-container\">\n",
              "    <div>\n",
              "<style scoped>\n",
              "    .dataframe tbody tr th:only-of-type {\n",
              "        vertical-align: middle;\n",
              "    }\n",
              "\n",
              "    .dataframe tbody tr th {\n",
              "        vertical-align: top;\n",
              "    }\n",
              "\n",
              "    .dataframe thead th {\n",
              "        text-align: right;\n",
              "    }\n",
              "</style>\n",
              "<table border=\"1\" class=\"dataframe\">\n",
              "  <thead>\n",
              "    <tr style=\"text-align: right;\">\n",
              "      <th></th>\n",
              "      <th>sentence</th>\n",
              "      <th>tense</th>\n",
              "    </tr>\n",
              "  </thead>\n",
              "  <tbody>\n",
              "    <tr>\n",
              "      <th>0</th>\n",
              "      <td>I am eating breakfast</td>\n",
              "      <td>present</td>\n",
              "    </tr>\n",
              "    <tr>\n",
              "      <th>1</th>\n",
              "      <td>She will go to the park</td>\n",
              "      <td>future</td>\n",
              "    </tr>\n",
              "    <tr>\n",
              "      <th>2</th>\n",
              "      <td>They played soccer yesterday</td>\n",
              "      <td>past</td>\n",
              "    </tr>\n",
              "    <tr>\n",
              "      <th>3</th>\n",
              "      <td>I will be going to the concert</td>\n",
              "      <td>future</td>\n",
              "    </tr>\n",
              "    <tr>\n",
              "      <th>4</th>\n",
              "      <td>She is eating lunch now</td>\n",
              "      <td>present</td>\n",
              "    </tr>\n",
              "    <tr>\n",
              "      <th>...</th>\n",
              "      <td>...</td>\n",
              "      <td>...</td>\n",
              "    </tr>\n",
              "    <tr>\n",
              "      <th>2269</th>\n",
              "      <td>She will have been leading the research team f...</td>\n",
              "      <td>future perfect continuous</td>\n",
              "    </tr>\n",
              "    <tr>\n",
              "      <th>2270</th>\n",
              "      <td>I am creating a new field of study in theoreti...</td>\n",
              "      <td>present continuous</td>\n",
              "    </tr>\n",
              "    <tr>\n",
              "      <th>2271</th>\n",
              "      <td>By 2030, we will have developed a cure for all...</td>\n",
              "      <td>future perfect</td>\n",
              "    </tr>\n",
              "    <tr>\n",
              "      <th>2272</th>\n",
              "      <td>They will be volunteering in underserved commu...</td>\n",
              "      <td>future continuous</td>\n",
              "    </tr>\n",
              "    <tr>\n",
              "      <th>2273</th>\n",
              "      <td>In 2009, the popurlation in Vietnam reached 95...</td>\n",
              "      <td>past</td>\n",
              "    </tr>\n",
              "  </tbody>\n",
              "</table>\n",
              "<p>2274 rows × 2 columns</p>\n",
              "</div>\n",
              "    <div class=\"colab-df-buttons\">\n",
              "\n",
              "  <div class=\"colab-df-container\">\n",
              "    <button class=\"colab-df-convert\" onclick=\"convertToInteractive('df-af54fae5-ef9b-43fd-b4d5-8932698f4296')\"\n",
              "            title=\"Convert this dataframe to an interactive table.\"\n",
              "            style=\"display:none;\">\n",
              "\n",
              "  <svg xmlns=\"http://www.w3.org/2000/svg\" height=\"24px\" viewBox=\"0 -960 960 960\">\n",
              "    <path d=\"M120-120v-720h720v720H120Zm60-500h600v-160H180v160Zm220 220h160v-160H400v160Zm0 220h160v-160H400v160ZM180-400h160v-160H180v160Zm440 0h160v-160H620v160ZM180-180h160v-160H180v160Zm440 0h160v-160H620v160Z\"/>\n",
              "  </svg>\n",
              "    </button>\n",
              "\n",
              "  <style>\n",
              "    .colab-df-container {\n",
              "      display:flex;\n",
              "      gap: 12px;\n",
              "    }\n",
              "\n",
              "    .colab-df-convert {\n",
              "      background-color: #E8F0FE;\n",
              "      border: none;\n",
              "      border-radius: 50%;\n",
              "      cursor: pointer;\n",
              "      display: none;\n",
              "      fill: #1967D2;\n",
              "      height: 32px;\n",
              "      padding: 0 0 0 0;\n",
              "      width: 32px;\n",
              "    }\n",
              "\n",
              "    .colab-df-convert:hover {\n",
              "      background-color: #E2EBFA;\n",
              "      box-shadow: 0px 1px 2px rgba(60, 64, 67, 0.3), 0px 1px 3px 1px rgba(60, 64, 67, 0.15);\n",
              "      fill: #174EA6;\n",
              "    }\n",
              "\n",
              "    .colab-df-buttons div {\n",
              "      margin-bottom: 4px;\n",
              "    }\n",
              "\n",
              "    [theme=dark] .colab-df-convert {\n",
              "      background-color: #3B4455;\n",
              "      fill: #D2E3FC;\n",
              "    }\n",
              "\n",
              "    [theme=dark] .colab-df-convert:hover {\n",
              "      background-color: #434B5C;\n",
              "      box-shadow: 0px 1px 3px 1px rgba(0, 0, 0, 0.15);\n",
              "      filter: drop-shadow(0px 1px 2px rgba(0, 0, 0, 0.3));\n",
              "      fill: #FFFFFF;\n",
              "    }\n",
              "  </style>\n",
              "\n",
              "    <script>\n",
              "      const buttonEl =\n",
              "        document.querySelector('#df-af54fae5-ef9b-43fd-b4d5-8932698f4296 button.colab-df-convert');\n",
              "      buttonEl.style.display =\n",
              "        google.colab.kernel.accessAllowed ? 'block' : 'none';\n",
              "\n",
              "      async function convertToInteractive(key) {\n",
              "        const element = document.querySelector('#df-af54fae5-ef9b-43fd-b4d5-8932698f4296');\n",
              "        const dataTable =\n",
              "          await google.colab.kernel.invokeFunction('convertToInteractive',\n",
              "                                                    [key], {});\n",
              "        if (!dataTable) return;\n",
              "\n",
              "        const docLinkHtml = 'Like what you see? Visit the ' +\n",
              "          '<a target=\"_blank\" href=https://colab.research.google.com/notebooks/data_table.ipynb>data table notebook</a>'\n",
              "          + ' to learn more about interactive tables.';\n",
              "        element.innerHTML = '';\n",
              "        dataTable['output_type'] = 'display_data';\n",
              "        await google.colab.output.renderOutput(dataTable, element);\n",
              "        const docLink = document.createElement('div');\n",
              "        docLink.innerHTML = docLinkHtml;\n",
              "        element.appendChild(docLink);\n",
              "      }\n",
              "    </script>\n",
              "  </div>\n",
              "\n",
              "\n",
              "<div id=\"df-a18e612f-171c-4f0a-a86d-e177fa172ace\">\n",
              "  <button class=\"colab-df-quickchart\" onclick=\"quickchart('df-a18e612f-171c-4f0a-a86d-e177fa172ace')\"\n",
              "            title=\"Suggest charts.\"\n",
              "            style=\"display:none;\">\n",
              "\n",
              "<svg xmlns=\"http://www.w3.org/2000/svg\" height=\"24px\"viewBox=\"0 0 24 24\"\n",
              "     width=\"24px\">\n",
              "    <g>\n",
              "        <path d=\"M19 3H5c-1.1 0-2 .9-2 2v14c0 1.1.9 2 2 2h14c1.1 0 2-.9 2-2V5c0-1.1-.9-2-2-2zM9 17H7v-7h2v7zm4 0h-2V7h2v10zm4 0h-2v-4h2v4z\"/>\n",
              "    </g>\n",
              "</svg>\n",
              "  </button>\n",
              "\n",
              "<style>\n",
              "  .colab-df-quickchart {\n",
              "      --bg-color: #E8F0FE;\n",
              "      --fill-color: #1967D2;\n",
              "      --hover-bg-color: #E2EBFA;\n",
              "      --hover-fill-color: #174EA6;\n",
              "      --disabled-fill-color: #AAA;\n",
              "      --disabled-bg-color: #DDD;\n",
              "  }\n",
              "\n",
              "  [theme=dark] .colab-df-quickchart {\n",
              "      --bg-color: #3B4455;\n",
              "      --fill-color: #D2E3FC;\n",
              "      --hover-bg-color: #434B5C;\n",
              "      --hover-fill-color: #FFFFFF;\n",
              "      --disabled-bg-color: #3B4455;\n",
              "      --disabled-fill-color: #666;\n",
              "  }\n",
              "\n",
              "  .colab-df-quickchart {\n",
              "    background-color: var(--bg-color);\n",
              "    border: none;\n",
              "    border-radius: 50%;\n",
              "    cursor: pointer;\n",
              "    display: none;\n",
              "    fill: var(--fill-color);\n",
              "    height: 32px;\n",
              "    padding: 0;\n",
              "    width: 32px;\n",
              "  }\n",
              "\n",
              "  .colab-df-quickchart:hover {\n",
              "    background-color: var(--hover-bg-color);\n",
              "    box-shadow: 0 1px 2px rgba(60, 64, 67, 0.3), 0 1px 3px 1px rgba(60, 64, 67, 0.15);\n",
              "    fill: var(--button-hover-fill-color);\n",
              "  }\n",
              "\n",
              "  .colab-df-quickchart-complete:disabled,\n",
              "  .colab-df-quickchart-complete:disabled:hover {\n",
              "    background-color: var(--disabled-bg-color);\n",
              "    fill: var(--disabled-fill-color);\n",
              "    box-shadow: none;\n",
              "  }\n",
              "\n",
              "  .colab-df-spinner {\n",
              "    border: 2px solid var(--fill-color);\n",
              "    border-color: transparent;\n",
              "    border-bottom-color: var(--fill-color);\n",
              "    animation:\n",
              "      spin 1s steps(1) infinite;\n",
              "  }\n",
              "\n",
              "  @keyframes spin {\n",
              "    0% {\n",
              "      border-color: transparent;\n",
              "      border-bottom-color: var(--fill-color);\n",
              "      border-left-color: var(--fill-color);\n",
              "    }\n",
              "    20% {\n",
              "      border-color: transparent;\n",
              "      border-left-color: var(--fill-color);\n",
              "      border-top-color: var(--fill-color);\n",
              "    }\n",
              "    30% {\n",
              "      border-color: transparent;\n",
              "      border-left-color: var(--fill-color);\n",
              "      border-top-color: var(--fill-color);\n",
              "      border-right-color: var(--fill-color);\n",
              "    }\n",
              "    40% {\n",
              "      border-color: transparent;\n",
              "      border-right-color: var(--fill-color);\n",
              "      border-top-color: var(--fill-color);\n",
              "    }\n",
              "    60% {\n",
              "      border-color: transparent;\n",
              "      border-right-color: var(--fill-color);\n",
              "    }\n",
              "    80% {\n",
              "      border-color: transparent;\n",
              "      border-right-color: var(--fill-color);\n",
              "      border-bottom-color: var(--fill-color);\n",
              "    }\n",
              "    90% {\n",
              "      border-color: transparent;\n",
              "      border-bottom-color: var(--fill-color);\n",
              "    }\n",
              "  }\n",
              "</style>\n",
              "\n",
              "  <script>\n",
              "    async function quickchart(key) {\n",
              "      const quickchartButtonEl =\n",
              "        document.querySelector('#' + key + ' button');\n",
              "      quickchartButtonEl.disabled = true;  // To prevent multiple clicks.\n",
              "      quickchartButtonEl.classList.add('colab-df-spinner');\n",
              "      try {\n",
              "        const charts = await google.colab.kernel.invokeFunction(\n",
              "            'suggestCharts', [key], {});\n",
              "      } catch (error) {\n",
              "        console.error('Error during call to suggestCharts:', error);\n",
              "      }\n",
              "      quickchartButtonEl.classList.remove('colab-df-spinner');\n",
              "      quickchartButtonEl.classList.add('colab-df-quickchart-complete');\n",
              "    }\n",
              "    (() => {\n",
              "      let quickchartButtonEl =\n",
              "        document.querySelector('#df-a18e612f-171c-4f0a-a86d-e177fa172ace button');\n",
              "      quickchartButtonEl.style.display =\n",
              "        google.colab.kernel.accessAllowed ? 'block' : 'none';\n",
              "    })();\n",
              "  </script>\n",
              "</div>\n",
              "    </div>\n",
              "  </div>\n"
            ],
            "text/plain": [
              "                                               sentence  \\\n",
              "0        I am eating breakfast                            \n",
              "1        She will go to the park                          \n",
              "2       They played soccer yesterday                      \n",
              "3        I will be going to the concert                   \n",
              "4        She is eating lunch now                          \n",
              "...                                                 ...   \n",
              "2269  She will have been leading the research team f...   \n",
              "2270  I am creating a new field of study in theoreti...   \n",
              "2271  By 2030, we will have developed a cure for all...   \n",
              "2272  They will be volunteering in underserved commu...   \n",
              "2273  In 2009, the popurlation in Vietnam reached 95...   \n",
              "\n",
              "                          tense  \n",
              "0                       present  \n",
              "1                        future  \n",
              "2                          past  \n",
              "3                        future  \n",
              "4                       present  \n",
              "...                         ...  \n",
              "2269  future perfect continuous  \n",
              "2270         present continuous  \n",
              "2271             future perfect  \n",
              "2272          future continuous  \n",
              "2273                       past  \n",
              "\n",
              "[2274 rows x 2 columns]"
            ]
          },
          "execution_count": 46,
          "metadata": {},
          "output_type": "execute_result"
        }
      ],
      "source": [
        "data = pd.read_csv(\"/content/tense.csv\", encoding='latin-1')\n",
        "data.columns = [\"sentence\", \"tense\"]\n",
        "data"
      ]
    },
    {
      "cell_type": "code",
      "execution_count": null,
      "metadata": {
        "id": "3bApqG4nftUk"
      },
      "outputs": [],
      "source": [
        "tense_labels = {\n",
        "    'present': 0,\n",
        "    'future': 1,\n",
        "    'past': 2,\n",
        "    'present perfect continuous': 3,\n",
        "    'future perfect': 4,\n",
        "    'past perfect': 5,\n",
        "    'future continuous': 6,\n",
        "    'past perfect continuous': 7,\n",
        "    'present continuous': 8,\n",
        "    'past continuous': 9,\n",
        "    'future perfect continuous': 10,\n",
        "    'present perfect': 11,\n",
        "}"
      ]
    },
    {
      "cell_type": "code",
      "execution_count": null,
      "metadata": {
        "colab": {
          "base_uri": "https://localhost:8080/"
        },
        "id": "5Hoc3BiSftUl",
        "outputId": "dea79482-ff7a-42fe-fe4e-2d02f4fc1319"
      },
      "outputs": [
        {
          "name": "stdout",
          "output_type": "stream",
          "text": [
            "Tense value ' future continuous' not found in tense_labels dictionary.\n"
          ]
        }
      ],
      "source": [
        "for item in data[\"tense\"]:\n",
        "    if item not in tense_labels:\n",
        "        print(f\"Tense value '{item}' not found in tense_labels dictionary.\")"
      ]
    },
    {
      "cell_type": "code",
      "execution_count": null,
      "metadata": {
        "colab": {
          "base_uri": "https://localhost:8080/",
          "height": 423
        },
        "id": "7EPIU9NiftUl",
        "outputId": "0732056d-f828-44e0-e4a6-0530570fa081"
      },
      "outputs": [
        {
          "data": {
            "text/html": [
              "\n",
              "  <div id=\"df-e7101b56-07ad-44d3-a292-fd3fc12a576e\" class=\"colab-df-container\">\n",
              "    <div>\n",
              "<style scoped>\n",
              "    .dataframe tbody tr th:only-of-type {\n",
              "        vertical-align: middle;\n",
              "    }\n",
              "\n",
              "    .dataframe tbody tr th {\n",
              "        vertical-align: top;\n",
              "    }\n",
              "\n",
              "    .dataframe thead th {\n",
              "        text-align: right;\n",
              "    }\n",
              "</style>\n",
              "<table border=\"1\" class=\"dataframe\">\n",
              "  <thead>\n",
              "    <tr style=\"text-align: right;\">\n",
              "      <th></th>\n",
              "      <th>sentence</th>\n",
              "      <th>tense</th>\n",
              "    </tr>\n",
              "  </thead>\n",
              "  <tbody>\n",
              "    <tr>\n",
              "      <th>0</th>\n",
              "      <td>I am eating breakfast</td>\n",
              "      <td>present</td>\n",
              "    </tr>\n",
              "    <tr>\n",
              "      <th>1</th>\n",
              "      <td>She will go to the park</td>\n",
              "      <td>future</td>\n",
              "    </tr>\n",
              "    <tr>\n",
              "      <th>2</th>\n",
              "      <td>They played soccer yesterday</td>\n",
              "      <td>past</td>\n",
              "    </tr>\n",
              "    <tr>\n",
              "      <th>3</th>\n",
              "      <td>I will be going to the concert</td>\n",
              "      <td>future</td>\n",
              "    </tr>\n",
              "    <tr>\n",
              "      <th>4</th>\n",
              "      <td>She is eating lunch now</td>\n",
              "      <td>present</td>\n",
              "    </tr>\n",
              "    <tr>\n",
              "      <th>...</th>\n",
              "      <td>...</td>\n",
              "      <td>...</td>\n",
              "    </tr>\n",
              "    <tr>\n",
              "      <th>2269</th>\n",
              "      <td>She will have been leading the research team f...</td>\n",
              "      <td>future perfect continuous</td>\n",
              "    </tr>\n",
              "    <tr>\n",
              "      <th>2270</th>\n",
              "      <td>I am creating a new field of study in theoreti...</td>\n",
              "      <td>present continuous</td>\n",
              "    </tr>\n",
              "    <tr>\n",
              "      <th>2271</th>\n",
              "      <td>By 2030, we will have developed a cure for all...</td>\n",
              "      <td>future perfect</td>\n",
              "    </tr>\n",
              "    <tr>\n",
              "      <th>2272</th>\n",
              "      <td>They will be volunteering in underserved commu...</td>\n",
              "      <td>future continuous</td>\n",
              "    </tr>\n",
              "    <tr>\n",
              "      <th>2273</th>\n",
              "      <td>In 2009, the popurlation in Vietnam reached 95...</td>\n",
              "      <td>past</td>\n",
              "    </tr>\n",
              "  </tbody>\n",
              "</table>\n",
              "<p>2273 rows × 2 columns</p>\n",
              "</div>\n",
              "    <div class=\"colab-df-buttons\">\n",
              "\n",
              "  <div class=\"colab-df-container\">\n",
              "    <button class=\"colab-df-convert\" onclick=\"convertToInteractive('df-e7101b56-07ad-44d3-a292-fd3fc12a576e')\"\n",
              "            title=\"Convert this dataframe to an interactive table.\"\n",
              "            style=\"display:none;\">\n",
              "\n",
              "  <svg xmlns=\"http://www.w3.org/2000/svg\" height=\"24px\" viewBox=\"0 -960 960 960\">\n",
              "    <path d=\"M120-120v-720h720v720H120Zm60-500h600v-160H180v160Zm220 220h160v-160H400v160Zm0 220h160v-160H400v160ZM180-400h160v-160H180v160Zm440 0h160v-160H620v160ZM180-180h160v-160H180v160Zm440 0h160v-160H620v160Z\"/>\n",
              "  </svg>\n",
              "    </button>\n",
              "\n",
              "  <style>\n",
              "    .colab-df-container {\n",
              "      display:flex;\n",
              "      gap: 12px;\n",
              "    }\n",
              "\n",
              "    .colab-df-convert {\n",
              "      background-color: #E8F0FE;\n",
              "      border: none;\n",
              "      border-radius: 50%;\n",
              "      cursor: pointer;\n",
              "      display: none;\n",
              "      fill: #1967D2;\n",
              "      height: 32px;\n",
              "      padding: 0 0 0 0;\n",
              "      width: 32px;\n",
              "    }\n",
              "\n",
              "    .colab-df-convert:hover {\n",
              "      background-color: #E2EBFA;\n",
              "      box-shadow: 0px 1px 2px rgba(60, 64, 67, 0.3), 0px 1px 3px 1px rgba(60, 64, 67, 0.15);\n",
              "      fill: #174EA6;\n",
              "    }\n",
              "\n",
              "    .colab-df-buttons div {\n",
              "      margin-bottom: 4px;\n",
              "    }\n",
              "\n",
              "    [theme=dark] .colab-df-convert {\n",
              "      background-color: #3B4455;\n",
              "      fill: #D2E3FC;\n",
              "    }\n",
              "\n",
              "    [theme=dark] .colab-df-convert:hover {\n",
              "      background-color: #434B5C;\n",
              "      box-shadow: 0px 1px 3px 1px rgba(0, 0, 0, 0.15);\n",
              "      filter: drop-shadow(0px 1px 2px rgba(0, 0, 0, 0.3));\n",
              "      fill: #FFFFFF;\n",
              "    }\n",
              "  </style>\n",
              "\n",
              "    <script>\n",
              "      const buttonEl =\n",
              "        document.querySelector('#df-e7101b56-07ad-44d3-a292-fd3fc12a576e button.colab-df-convert');\n",
              "      buttonEl.style.display =\n",
              "        google.colab.kernel.accessAllowed ? 'block' : 'none';\n",
              "\n",
              "      async function convertToInteractive(key) {\n",
              "        const element = document.querySelector('#df-e7101b56-07ad-44d3-a292-fd3fc12a576e');\n",
              "        const dataTable =\n",
              "          await google.colab.kernel.invokeFunction('convertToInteractive',\n",
              "                                                    [key], {});\n",
              "        if (!dataTable) return;\n",
              "\n",
              "        const docLinkHtml = 'Like what you see? Visit the ' +\n",
              "          '<a target=\"_blank\" href=https://colab.research.google.com/notebooks/data_table.ipynb>data table notebook</a>'\n",
              "          + ' to learn more about interactive tables.';\n",
              "        element.innerHTML = '';\n",
              "        dataTable['output_type'] = 'display_data';\n",
              "        await google.colab.output.renderOutput(dataTable, element);\n",
              "        const docLink = document.createElement('div');\n",
              "        docLink.innerHTML = docLinkHtml;\n",
              "        element.appendChild(docLink);\n",
              "      }\n",
              "    </script>\n",
              "  </div>\n",
              "\n",
              "\n",
              "<div id=\"df-917fa744-b1f4-4619-859f-5b33db50a992\">\n",
              "  <button class=\"colab-df-quickchart\" onclick=\"quickchart('df-917fa744-b1f4-4619-859f-5b33db50a992')\"\n",
              "            title=\"Suggest charts.\"\n",
              "            style=\"display:none;\">\n",
              "\n",
              "<svg xmlns=\"http://www.w3.org/2000/svg\" height=\"24px\"viewBox=\"0 0 24 24\"\n",
              "     width=\"24px\">\n",
              "    <g>\n",
              "        <path d=\"M19 3H5c-1.1 0-2 .9-2 2v14c0 1.1.9 2 2 2h14c1.1 0 2-.9 2-2V5c0-1.1-.9-2-2-2zM9 17H7v-7h2v7zm4 0h-2V7h2v10zm4 0h-2v-4h2v4z\"/>\n",
              "    </g>\n",
              "</svg>\n",
              "  </button>\n",
              "\n",
              "<style>\n",
              "  .colab-df-quickchart {\n",
              "      --bg-color: #E8F0FE;\n",
              "      --fill-color: #1967D2;\n",
              "      --hover-bg-color: #E2EBFA;\n",
              "      --hover-fill-color: #174EA6;\n",
              "      --disabled-fill-color: #AAA;\n",
              "      --disabled-bg-color: #DDD;\n",
              "  }\n",
              "\n",
              "  [theme=dark] .colab-df-quickchart {\n",
              "      --bg-color: #3B4455;\n",
              "      --fill-color: #D2E3FC;\n",
              "      --hover-bg-color: #434B5C;\n",
              "      --hover-fill-color: #FFFFFF;\n",
              "      --disabled-bg-color: #3B4455;\n",
              "      --disabled-fill-color: #666;\n",
              "  }\n",
              "\n",
              "  .colab-df-quickchart {\n",
              "    background-color: var(--bg-color);\n",
              "    border: none;\n",
              "    border-radius: 50%;\n",
              "    cursor: pointer;\n",
              "    display: none;\n",
              "    fill: var(--fill-color);\n",
              "    height: 32px;\n",
              "    padding: 0;\n",
              "    width: 32px;\n",
              "  }\n",
              "\n",
              "  .colab-df-quickchart:hover {\n",
              "    background-color: var(--hover-bg-color);\n",
              "    box-shadow: 0 1px 2px rgba(60, 64, 67, 0.3), 0 1px 3px 1px rgba(60, 64, 67, 0.15);\n",
              "    fill: var(--button-hover-fill-color);\n",
              "  }\n",
              "\n",
              "  .colab-df-quickchart-complete:disabled,\n",
              "  .colab-df-quickchart-complete:disabled:hover {\n",
              "    background-color: var(--disabled-bg-color);\n",
              "    fill: var(--disabled-fill-color);\n",
              "    box-shadow: none;\n",
              "  }\n",
              "\n",
              "  .colab-df-spinner {\n",
              "    border: 2px solid var(--fill-color);\n",
              "    border-color: transparent;\n",
              "    border-bottom-color: var(--fill-color);\n",
              "    animation:\n",
              "      spin 1s steps(1) infinite;\n",
              "  }\n",
              "\n",
              "  @keyframes spin {\n",
              "    0% {\n",
              "      border-color: transparent;\n",
              "      border-bottom-color: var(--fill-color);\n",
              "      border-left-color: var(--fill-color);\n",
              "    }\n",
              "    20% {\n",
              "      border-color: transparent;\n",
              "      border-left-color: var(--fill-color);\n",
              "      border-top-color: var(--fill-color);\n",
              "    }\n",
              "    30% {\n",
              "      border-color: transparent;\n",
              "      border-left-color: var(--fill-color);\n",
              "      border-top-color: var(--fill-color);\n",
              "      border-right-color: var(--fill-color);\n",
              "    }\n",
              "    40% {\n",
              "      border-color: transparent;\n",
              "      border-right-color: var(--fill-color);\n",
              "      border-top-color: var(--fill-color);\n",
              "    }\n",
              "    60% {\n",
              "      border-color: transparent;\n",
              "      border-right-color: var(--fill-color);\n",
              "    }\n",
              "    80% {\n",
              "      border-color: transparent;\n",
              "      border-right-color: var(--fill-color);\n",
              "      border-bottom-color: var(--fill-color);\n",
              "    }\n",
              "    90% {\n",
              "      border-color: transparent;\n",
              "      border-bottom-color: var(--fill-color);\n",
              "    }\n",
              "  }\n",
              "</style>\n",
              "\n",
              "  <script>\n",
              "    async function quickchart(key) {\n",
              "      const quickchartButtonEl =\n",
              "        document.querySelector('#' + key + ' button');\n",
              "      quickchartButtonEl.disabled = true;  // To prevent multiple clicks.\n",
              "      quickchartButtonEl.classList.add('colab-df-spinner');\n",
              "      try {\n",
              "        const charts = await google.colab.kernel.invokeFunction(\n",
              "            'suggestCharts', [key], {});\n",
              "      } catch (error) {\n",
              "        console.error('Error during call to suggestCharts:', error);\n",
              "      }\n",
              "      quickchartButtonEl.classList.remove('colab-df-spinner');\n",
              "      quickchartButtonEl.classList.add('colab-df-quickchart-complete');\n",
              "    }\n",
              "    (() => {\n",
              "      let quickchartButtonEl =\n",
              "        document.querySelector('#df-917fa744-b1f4-4619-859f-5b33db50a992 button');\n",
              "      quickchartButtonEl.style.display =\n",
              "        google.colab.kernel.accessAllowed ? 'block' : 'none';\n",
              "    })();\n",
              "  </script>\n",
              "</div>\n",
              "    </div>\n",
              "  </div>\n"
            ],
            "text/plain": [
              "                                               sentence  \\\n",
              "0        I am eating breakfast                            \n",
              "1        She will go to the park                          \n",
              "2       They played soccer yesterday                      \n",
              "3        I will be going to the concert                   \n",
              "4        She is eating lunch now                          \n",
              "...                                                 ...   \n",
              "2269  She will have been leading the research team f...   \n",
              "2270  I am creating a new field of study in theoreti...   \n",
              "2271  By 2030, we will have developed a cure for all...   \n",
              "2272  They will be volunteering in underserved commu...   \n",
              "2273  In 2009, the popurlation in Vietnam reached 95...   \n",
              "\n",
              "                          tense  \n",
              "0                       present  \n",
              "1                        future  \n",
              "2                          past  \n",
              "3                        future  \n",
              "4                       present  \n",
              "...                         ...  \n",
              "2269  future perfect continuous  \n",
              "2270         present continuous  \n",
              "2271             future perfect  \n",
              "2272          future continuous  \n",
              "2273                       past  \n",
              "\n",
              "[2273 rows x 2 columns]"
            ]
          },
          "execution_count": 49,
          "metadata": {},
          "output_type": "execute_result"
        }
      ],
      "source": [
        "def clean_and_map_tense(tense):\n",
        "    if pd.notna(tense):\n",
        "        tense = tense.lower()\n",
        "        if tense in tense_labels:\n",
        "            return tense\n",
        "    return None\n",
        "\n",
        "# Clean and map tenses\n",
        "data[\"tense\"] = data[\"tense\"].apply(clean_and_map_tense)\n",
        "\n",
        "# Remove rows with None (unrecognized tenses)\n",
        "data = data.dropna()\n",
        "\n",
        "data"
      ]
    },
    {
      "cell_type": "code",
      "execution_count": null,
      "metadata": {
        "id": "p9m9-wKzftUm"
      },
      "outputs": [],
      "source": [
        "# Check and remove unrecognized tenses from tense_labels\n",
        "unrecognized_tenses = [item for item in data[\"tense\"] if item not in tense_labels]\n",
        "for unrecognized_tense in unrecognized_tenses:\n",
        "    del tense_labels[unrecognized_tense]"
      ]
    },
    {
      "cell_type": "code",
      "execution_count": null,
      "metadata": {
        "colab": {
          "base_uri": "https://localhost:8080/"
        },
        "id": "N3EB7_rsftUn",
        "outputId": "1b07f7f2-01fc-48c6-c255-51a588cb44a0"
      },
      "outputs": [
        {
          "name": "stdout",
          "output_type": "stream",
          "text": [
            "Nan Data:\n",
            "sentence    0\n",
            "tense       0\n",
            "dtype: int64\n"
          ]
        }
      ],
      "source": [
        "missing_values = data.isnull().sum()\n",
        "print(\"Nan Data:\")\n",
        "print(missing_values)"
      ]
    },
    {
      "cell_type": "code",
      "execution_count": null,
      "metadata": {
        "id": "wnG-5v_nftUp"
      },
      "outputs": [],
      "source": [
        "# Tách dữ liệu thành tập huấn luyện và tập kiểm tra\n",
        "train_data, test_data = train_test_split(data, test_size=0.1, random_state=42)\n",
        "\n",
        "def prepare_input_data(data):\n",
        "    encoded_data = tokenizer(data[\"sentence\"].tolist(), padding=True, truncation=True, return_tensors=\"pt\")\n",
        "    return encoded_data"
      ]
    },
    {
      "cell_type": "code",
      "execution_count": null,
      "metadata": {
        "id": "W1-sFRfkftUq"
      },
      "outputs": [],
      "source": [
        "train_inputs = prepare_input_data(train_data)\n",
        "test_inputs = prepare_input_data(test_data)\n",
        "\n",
        "train_labels = torch.tensor([tense_labels[item] for item in train_data[\"tense\"]])\n",
        "test_labels = torch.tensor([tense_labels[item] for item in test_data[\"tense\"]])\n"
      ]
    },
    {
      "cell_type": "code",
      "execution_count": null,
      "metadata": {
        "id": "V8BqE8m_ftUr"
      },
      "outputs": [],
      "source": [
        "class TenseClassifier(nn.Module):\n",
        "\n",
        "    def __init__(self, bert_model, num_classes):\n",
        "        super(TenseClassifier, self).__init__()\n",
        "        self.bert = bert_model\n",
        "        self.relu1 = nn.ReLU()\n",
        "        self.relu2 = nn.ReLU()\n",
        "        self.fc = nn.Linear(self.bert.config.hidden_size, num_classes)\n",
        "\n",
        "    def forward(self, input_ids, attention_mask):\n",
        "        outputs = self.bert(input_ids, attention_mask=attention_mask)\n",
        "        pooled_output = outputs.last_hidden_state[:, 0, :]\n",
        "        x = self.relu1(pooled_output)\n",
        "        x = self.relu2(x)\n",
        "        logits = self.fc(x)\n",
        "        return logits\n",
        "\n",
        "num_classes = 12\n",
        "model = TenseClassifier(bert_model, num_classes)\n",
        "\n",
        "criterion = nn.CrossEntropyLoss()\n",
        "optimizer = torch.optim.Adam(model.parameters(), lr=2e-5)"
      ]
    },
    {
      "cell_type": "code",
      "execution_count": null,
      "metadata": {
        "id": "ot-Cb-21ftUr"
      },
      "outputs": [],
      "source": [
        "# Define batch size\n",
        "batch_size = 32\n",
        "\n",
        "# Create DataLoader for training data\n",
        "train_dataset = TensorDataset(train_inputs['input_ids'], train_inputs['attention_mask'], train_labels)\n",
        "train_data_loader = DataLoader(train_dataset, batch_size=batch_size, shuffle=True)"
      ]
    },
    {
      "cell_type": "code",
      "execution_count": null,
      "metadata": {
        "colab": {
          "background_save": true,
          "base_uri": "https://localhost:8080/"
        },
        "id": "SwReetqlftUs",
        "outputId": "ae3272b8-1a83-4be8-fe91-5fb1d6650064"
      },
      "outputs": [
        {
          "name": "stdout",
          "output_type": "stream",
          "text": [
            "Epoch 1/10, Average Loss: 1.4232420607617027\n",
            "Epoch 2/10, Average Loss: 0.4186065542070489\n",
            "Epoch 3/10, Average Loss: 0.2309194190198915\n",
            "Epoch 4/10, Average Loss: 0.15373705079158148\n",
            "Epoch 5/10, Average Loss: 0.13823684233061054\n",
            "Epoch 6/10, Average Loss: 0.10301513623511582\n",
            "Epoch 7/10, Average Loss: 0.0892762784895144\n",
            "Epoch 8/10, Average Loss: 0.08019526322421275\n",
            "Epoch 9/10, Average Loss: 0.07002977749104039\n",
            "Epoch 10/10, Average Loss: 0.06924490633894477\n"
          ]
        }
      ],
      "source": [
        "num_epochs = 10\n",
        "for epoch in range(num_epochs):\n",
        "    model.train()\n",
        "    total_loss = 0\n",
        "    for batch in train_data_loader:\n",
        "        input_ids, attention_mask, labels = batch\n",
        "        optimizer.zero_grad()\n",
        "        logits = model(input_ids, attention_mask)\n",
        "        loss = criterion(logits, labels)\n",
        "        loss.backward()\n",
        "        optimizer.step()\n",
        "        total_loss += loss.item()\n",
        "    print(f'Epoch {epoch + 1}/{num_epochs}, Average Loss: {total_loss / len(train_data_loader)}')"
      ]
    },
    {
      "cell_type": "code",
      "execution_count": null,
      "metadata": {
        "id": "uMHy_tamftUs"
      },
      "outputs": [],
      "source": [
        "# Evaluation\n",
        "model.eval()\n",
        "with torch.no_grad():\n",
        "    logits = model(test_inputs['input_ids'], test_inputs['attention_mask'])\n",
        "    predicted_labels = torch.argmax(logits, dim=1)\n",
        "    accuracy = accuracy_score(test_labels, predicted_labels)\n",
        "    print(f'Accuracy on test set: {accuracy * 100:.2f}%')"
      ]
    },
    {
      "cell_type": "code",
      "execution_count": null,
      "metadata": {
        "colab": {
          "base_uri": "https://localhost:8080/"
        },
        "id": "cRpdTfOAftUt",
        "outputId": "3d43a3cf-9bfd-488c-e4c1-902b085f8218"
      },
      "outputs": [
        {
          "name": "stdout",
          "output_type": "stream",
          "text": [
            "The predicted tense for the sentence is: present perfect continuous\n"
          ]
        }
      ],
      "source": [
        "def predict_tense(sentence, model, tokenizer, tense_labels):\n",
        "    # tokenizer\n",
        "    encoded_sentence = tokenizer(sentence, padding=True, truncation=True, return_tensors=\"pt\")\n",
        "\n",
        "    with torch.no_grad():\n",
        "        logits = model(encoded_sentence['input_ids'], encoded_sentence['attention_mask'])\n",
        "        predicted_label = torch.argmax(logits, dim=1).item()\n",
        "\n",
        "    predicted_tense = [k for k, v in tense_labels.items() if v == predicted_label][0]\n",
        "\n",
        "    return predicted_tense\n",
        "\n",
        "sentence_to_predict = \"\"\"\n",
        "In 2009, the inhabitants in Vietnam reached 95 million individuals.\n",
        "\"\"\"\n",
        "# Simultaneously, the population in Japan hit 50 million citizens.\n",
        "predicted_tense = predict_tense(sentence_to_predict, model, tokenizer, tense_labels)\n",
        "print(f\"The predicted tense for the sentence is: {predicted_tense}\")"
      ]
    },
    {
      "cell_type": "code",
      "execution_count": null,
      "metadata": {
        "colab": {
          "base_uri": "https://localhost:8080/"
        },
        "id": "1cGNolkmpSGP",
        "outputId": "b853b59b-84cc-4d37-e7b9-8b4ea4d34c33"
      },
      "outputs": [
        {
          "name": "stdout",
          "output_type": "stream",
          "text": [
            "Mounted at /content/drive\n"
          ]
        }
      ],
      "source": [
        "from google.colab import drive\n",
        "drive.mount('/content/drive')"
      ]
    },
    {
      "cell_type": "code",
      "execution_count": null,
      "metadata": {
        "id": "8QaTlqFcftUt"
      },
      "outputs": [],
      "source": [
        "model_save_path = 'tense.pt'\n",
        "tokenizer_save_path = 'tense_tokenizer'\n",
        "\n",
        "torch.save(model.state_dict(), model_save_path)\n",
        "tokenizer.save_pretrained(tokenizer_save_path)\n"
      ]
    },
    {
      "cell_type": "code",
      "execution_count": null,
      "metadata": {
        "id": "9lFBFXjLftUu",
        "outputId": "6b6d9c15-f432-443c-8267-54f85ec8150f"
      },
      "outputs": [
        {
          "name": "stdout",
          "output_type": "stream",
          "text": [
            "The folder /kaggle/working/tense_tokenizer has been compressed to /kaggle/working/tense_tokenizer.zip.\n"
          ]
        }
      ],
      "source": [
        "import shutil\n",
        "import zipfile\n",
        "\n",
        "# Thư mục bạn muốn nén thành tệp ZIP\n",
        "folder_to_compress = '/kaggle/working/tense_tokenizer'\n",
        "\n",
        "# Tên tệp ZIP đầu ra\n",
        "output_zip_file = '/kaggle/working/tense_tokenizer.zip'\n",
        "\n",
        "# Nén thư mục thành tệp ZIP\n",
        "shutil.make_archive(output_zip_file, 'zip', folder_to_compress)\n",
        "\n",
        "print(f'The folder {folder_to_compress} has been compressed to {output_zip_file}.')\n"
      ]
    },
    {
      "cell_type": "markdown",
      "metadata": {
        "id": "HBDbBq_OftUu"
      },
      "source": [
        "<a href=\"/kaggle/working/tense_tokenizer.zip.zip\"> Download File </a>"
      ]
    },
    {
      "cell_type": "code",
      "execution_count": null,
      "metadata": {
        "id": "nz5-dXnyftUw",
        "outputId": "90c2b42d-7170-4803-8b9a-543028323414"
      },
      "outputs": [
        {
          "data": {
            "text/html": "<a href='/kaggle/working/tense.pth' target='_blank'>/kaggle/working/tense.pth</a><br>",
            "text/plain": "/kaggle/working/tense.pth"
          },
          "execution_count": 2,
          "metadata": {},
          "output_type": "execute_result"
        }
      ],
      "source": [
        "import zipfile\n",
        "import os\n",
        "from IPython.display import FileLink\n",
        "\n",
        "def zip_dir(directory = os.curdir, file_name = '/kaggle/working/tense.pth'):\n",
        "    \"\"\"\n",
        "    zip all the files in a directory\n",
        "\n",
        "    Parameters\n",
        "    _____\n",
        "    directory: str\n",
        "        directory needs to be zipped, defualt is current working directory\n",
        "\n",
        "    file_name: str\n",
        "        the name of the zipped file (including .zip), default is 'directory.zip'\n",
        "\n",
        "    Returns\n",
        "    _____\n",
        "    Creates a hyperlink, which can be used to download the zip file)\n",
        "    \"\"\"\n",
        "    os.chdir(directory)\n",
        "    zip_ref = zipfile.ZipFile(file_name, mode='w')\n",
        "    for folder, _, files in os.walk(directory):\n",
        "        for file in files:\n",
        "            if file_name in file:\n",
        "                pass\n",
        "            else:\n",
        "                zip_ref.write(os.path.join(folder, file))\n",
        "\n",
        "    return FileLink(file_name)\n",
        "zip_dir()"
      ]
    },
    {
      "cell_type": "markdown",
      "metadata": {
        "id": "BTuV3MobftUx"
      },
      "source": [
        "# Training using  TrainingArguments & Trainer"
      ]
    },
    {
      "cell_type": "code",
      "execution_count": null,
      "metadata": {
        "id": "0DcE4JEhftUx"
      },
      "outputs": [],
      "source": [
        "from transformers import TrainingArguments, Trainer\n",
        "from torch.utils.data import Dataset\n",
        "\n",
        "# Define a custom dataset\n",
        "class CustomDataset(Dataset):\n",
        "    def __init__(self, input_ids, attention_mask, labels):\n",
        "        self.input_ids = input_ids\n",
        "        self.attention_mask = attention_mask\n",
        "        self.labels = labels\n",
        "\n",
        "    def __len__(self):\n",
        "        return len(self.input_ids)\n",
        "\n",
        "    def __getitem__(self, idx):\n",
        "        return {\n",
        "            'input_ids': self.input_ids[idx],\n",
        "            'attention_mask': self.attention_mask[idx],\n",
        "            'labels': self.labels[idx],\n",
        "        }\n",
        "\n",
        "# Create a custom dataset\n",
        "train_dataset = CustomDataset(train_inputs['input_ids'], train_inputs['attention_mask'], train_labels)\n",
        "eval_dataset = CustomDataset(test_inputs['input_ids'], test_inputs['attention_mask'], test_labels)"
      ]
    },
    {
      "cell_type": "code",
      "execution_count": null,
      "metadata": {
        "id": "JK7ahz9gftUy"
      },
      "outputs": [],
      "source": [
        "# Define batch size\n",
        "batch_size = 32\n",
        "num_epochs = 10\n",
        "# Set up TrainingArguments\n",
        "training_args = TrainingArguments(\n",
        "    output_dir='./output',\n",
        "    per_device_train_batch_size=batch_size,\n",
        "    per_device_eval_batch_size=batch_size,\n",
        "    num_train_epochs=num_epochs,\n",
        "    evaluation_strategy=\"steps\",\n",
        "    eval_steps=500,\n",
        ")\n",
        "\n",
        "# Create a Trainer\n",
        "trainer = Trainer(\n",
        "    model=model,\n",
        "    args=training_args,\n",
        "    train_dataset=train_dataset,  # Provide the train_dataset\n",
        "    eval_dataset=eval_dataset,\n",
        ")"
      ]
    },
    {
      "cell_type": "code",
      "execution_count": null,
      "metadata": {
        "id": "uPw0RWJ0ftUy",
        "outputId": "7fba46aa-0791-49bc-cdf5-334c931e83e5"
      },
      "outputs": [
        {
          "data": {
            "text/html": "\n    <div>\n      \n      <progress value='120' max='120' style='width:300px; height:20px; vertical-align: middle;'></progress>\n      [120/120 00:28, Epoch 10/10]\n    </div>\n    <table border=\"1\" class=\"dataframe\">\n  <thead>\n <tr style=\"text-align: left;\">\n      <th>Step</th>\n      <th>Training Loss</th>\n      <th>Validation Loss</th>\n    </tr>\n  </thead>\n  <tbody>\n  </tbody>\n</table><p>",
            "text/plain": "<IPython.core.display.HTML object>"
          },
          "metadata": {},
          "output_type": "display_data"
        },
        {
          "data": {
            "text/plain": "TrainOutput(global_step=120, training_loss=-2.643637847900391, metrics={'train_runtime': 28.8134, 'train_samples_per_second': 263.766, 'train_steps_per_second': 4.165, 'total_flos': 0.0, 'train_loss': -2.643637847900391, 'epoch': 10.0})"
          },
          "execution_count": 111,
          "metadata": {},
          "output_type": "execute_result"
        }
      ],
      "source": [
        "# Training loop\n",
        "trainer.train()"
      ]
    },
    {
      "cell_type": "code",
      "execution_count": null,
      "metadata": {
        "id": "2AGjfbduftUy",
        "outputId": "dcbfd785-14bc-4c27-d737-096ae7ebf684"
      },
      "outputs": [
        {
          "data": {
            "text/html": "",
            "text/plain": "<IPython.core.display.HTML object>"
          },
          "metadata": {},
          "output_type": "display_data"
        },
        {
          "name": "stdout",
          "output_type": "stream",
          "text": [
            "Accuracy: 25.65%\n"
          ]
        }
      ],
      "source": [
        "from sklearn.metrics import accuracy_score\n",
        "# Get model predictions on the test dataset\n",
        "predictions = trainer.predict(eval_dataset).predictions\n",
        "# Convert predictions to class labels\n",
        "predicted_labels = predictions.argmax(axis=1)\n",
        "# Convert test labels to NumPy array for comparison\n",
        "true_labels = test_labels.numpy()\n",
        "# Calculate accuracy\n",
        "accuracy = accuracy_score(true_labels, predicted_labels)\n",
        "# Print accuracy\n",
        "print(f\"Accuracy: {accuracy * 100:.2f}%\")"
      ]
    },
    {
      "cell_type": "code",
      "execution_count": null,
      "metadata": {
        "id": "M4GWIVrMftUz",
        "outputId": "ea7bd72f-5a3a-4f13-b441-5a1efb6e20d5"
      },
      "outputs": [
        {
          "name": "stdout",
          "output_type": "stream",
          "text": [
            "The predicted tense is: future\n"
          ]
        }
      ],
      "source": [
        "tense_labels = {\n",
        "    0: 'present',\n",
        "    1: 'future',\n",
        "    2: 'past',\n",
        "    3: 'present perfect continuous',\n",
        "    4: 'future perfect',\n",
        "    5: 'past perfect',\n",
        "    6: 'future continuous',\n",
        "    7: 'past perfect continuous',\n",
        "    8: 'present continuous',\n",
        "    9: 'past continuous',\n",
        "    10: 'future perfect continuous',\n",
        "    11: 'present perfect',\n",
        "}\n",
        "\n",
        "def predict_tense(text, model):\n",
        "    input_data = tokenizer(text, return_tensors=\"pt\")\n",
        "    device=\"cuda:0\"\n",
        "    input_data = {key: value.to(device) for key, value in input_data.items()}\n",
        "    model = model.to(device)\n",
        "    with torch.no_grad():\n",
        "        logits = model(input_data['input_ids'], input_data['attention_mask'])\n",
        "    predicted_label = torch.argmax(logits, dim=1).item()\n",
        "    predicted_tense = tense_labels[predicted_label]\n",
        "    return predicted_tense\n",
        "\n",
        "text_to_predict = \"She is studying for her final exams.\"\n",
        "predicted_tense = predict_tense(text_to_predict, model)\n",
        "print(f\"The predicted tense is: {predicted_tense}\")\n"
      ]
    }
  ],
  "metadata": {
    "accelerator": "GPU",
    "colab": {
      "provenance": [],
      "include_colab_link": true
    },
    "kernelspec": {
      "display_name": "Python 3",
      "name": "python3"
    },
    "language_info": {
      "codemirror_mode": {
        "name": "ipython",
        "version": 3
      },
      "file_extension": ".py",
      "mimetype": "text/x-python",
      "name": "python",
      "nbconvert_exporter": "python",
      "pygments_lexer": "ipython3",
      "version": "3.10.12"
    }
  },
  "nbformat": 4,
  "nbformat_minor": 0
}