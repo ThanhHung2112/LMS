{
  "metadata": {
    "accelerator": "GPU",
    "colab": {
      "provenance": [],
      "gpuType": "T4",
      "include_colab_link": true
    },
    "kernelspec": {
      "name": "python3",
      "display_name": "Python 3"
    },
    "language_info": {
      "name": "python",
      "version": "3.10.12",
      "mimetype": "text/x-python",
      "codemirror_mode": {
        "name": "ipython",
        "version": 3
      },
      "pygments_lexer": "ipython3",
      "nbconvert_exporter": "python",
      "file_extension": ".py"
    }
  },
  "nbformat_minor": 0,
  "nbformat": 4,
  "cells": [
    {
      "cell_type": "markdown",
      "metadata": {
        "id": "view-in-github",
        "colab_type": "text"
      },
      "source": [
        "<a href=\"https://colab.research.google.com/github/ThanhHung2112/LMS/blob/main/t5_grammar.ipynb\" target=\"_parent\"><img src=\"https://colab.research.google.com/assets/colab-badge.svg\" alt=\"Open In Colab\"/></a>"
      ]
    },
    {
      "cell_type": "markdown",
      "source": [
        "\n",
        "# **Install libraries**"
      ],
      "metadata": {
        "id": "PlNF-_DjfgtK"
      }
    },
    {
      "cell_type": "code",
      "source": [
        "from google.colab import drive\n",
        "drive.mount('/content/drive')"
      ],
      "metadata": {
        "colab": {
          "base_uri": "https://localhost:8080/"
        },
        "id": "04jwVrdr9sdb",
        "outputId": "848277bc-4d0b-4863-d52c-29f88bc213f5",
        "execution": {
          "iopub.status.busy": "2023-09-29T06:05:46.069597Z",
          "iopub.execute_input": "2023-09-29T06:05:46.069977Z",
          "iopub.status.idle": "2023-09-29T06:05:46.075836Z",
          "shell.execute_reply.started": "2023-09-29T06:05:46.069951Z",
          "shell.execute_reply": "2023-09-29T06:05:46.074949Z"
        },
        "trusted": true
      },
      "execution_count": null,
      "outputs": [
        {
          "output_type": "stream",
          "name": "stdout",
          "text": [
            "Drive already mounted at /content/drive; to attempt to forcibly remount, call drive.mount(\"/content/drive\", force_remount=True).\n"
          ]
        }
      ]
    },
    {
      "cell_type": "code",
      "source": [
        "!pip install -q datasets tqdm pandas\n",
        "!pip install -q sentencepiece\n",
        "!pip install -q transformers\n",
        "!pip install -q wandb"
      ],
      "metadata": {
        "id": "PRjmWkf7-Exj",
        "colab": {
          "base_uri": "https://localhost:8080/"
        },
        "outputId": "39a31471-e48c-4444-c56d-fa557017a96b"
      },
      "execution_count": null,
      "outputs": [
        {
          "output_type": "stream",
          "name": "stdout",
          "text": [
            "\u001b[2K     \u001b[90m━━━━━━━━━━━━━━━━━━━━━━━━━━━━━━━━━━━━━━━\u001b[0m \u001b[32m519.6/519.6 kB\u001b[0m \u001b[31m6.7 MB/s\u001b[0m eta \u001b[36m0:00:00\u001b[0m\n",
            "\u001b[2K     \u001b[90m━━━━━━━━━━━━━━━━━━━━━━━━━━━━━━━━━━━━━━\u001b[0m \u001b[32m115.3/115.3 kB\u001b[0m \u001b[31m14.8 MB/s\u001b[0m eta \u001b[36m0:00:00\u001b[0m\n",
            "\u001b[2K     \u001b[90m━━━━━━━━━━━━━━━━━━━━━━━━━━━━━━━━━━━━━━\u001b[0m \u001b[32m194.1/194.1 kB\u001b[0m \u001b[31m23.7 MB/s\u001b[0m eta \u001b[36m0:00:00\u001b[0m\n",
            "\u001b[2K     \u001b[90m━━━━━━━━━━━━━━━━━━━━━━━━━━━━━━━━━━━━━━\u001b[0m \u001b[32m134.8/134.8 kB\u001b[0m \u001b[31m14.3 MB/s\u001b[0m eta \u001b[36m0:00:00\u001b[0m\n",
            "\u001b[2K     \u001b[90m━━━━━━━━━━━━━━━━━━━━━━━━━━━━━━━━━━━━━━\u001b[0m \u001b[32m295.0/295.0 kB\u001b[0m \u001b[31m32.8 MB/s\u001b[0m eta \u001b[36m0:00:00\u001b[0m\n",
            "\u001b[2K     \u001b[90m━━━━━━━━━━━━━━━━━━━━━━━━━━━━━━━━━━━━━━━━\u001b[0m \u001b[32m1.3/1.3 MB\u001b[0m \u001b[31m20.1 MB/s\u001b[0m eta \u001b[36m0:00:00\u001b[0m\n",
            "\u001b[2K     \u001b[90m━━━━━━━━━━━━━━━━━━━━━━━━━━━━━━━━━━━━━━━━\u001b[0m \u001b[32m7.7/7.7 MB\u001b[0m \u001b[31m43.4 MB/s\u001b[0m eta \u001b[36m0:00:00\u001b[0m\n",
            "\u001b[2K     \u001b[90m━━━━━━━━━━━━━━━━━━━━━━━━━━━━━━━━━━━━━━━━\u001b[0m \u001b[32m3.8/3.8 MB\u001b[0m \u001b[31m83.0 MB/s\u001b[0m eta \u001b[36m0:00:00\u001b[0m\n",
            "\u001b[2K     \u001b[90m━━━━━━━━━━━━━━━━━━━━━━━━━━━━━━━━━━━━━━━━\u001b[0m \u001b[32m1.3/1.3 MB\u001b[0m \u001b[31m62.5 MB/s\u001b[0m eta \u001b[36m0:00:00\u001b[0m\n",
            "\u001b[2K     \u001b[90m━━━━━━━━━━━━━━━━━━━━━━━━━━━━━━━━━━━━━━━━\u001b[0m \u001b[32m2.1/2.1 MB\u001b[0m \u001b[31m31.8 MB/s\u001b[0m eta \u001b[36m0:00:00\u001b[0m\n",
            "\u001b[2K     \u001b[90m━━━━━━━━━━━━━━━━━━━━━━━━━━━━━━━━━━━━━━\u001b[0m \u001b[32m190.0/190.0 kB\u001b[0m \u001b[31m23.5 MB/s\u001b[0m eta \u001b[36m0:00:00\u001b[0m\n",
            "\u001b[2K     \u001b[90m━━━━━━━━━━━━━━━━━━━━━━━━━━━━━━━━━━━━━━\u001b[0m \u001b[32m224.8/224.8 kB\u001b[0m \u001b[31m30.1 MB/s\u001b[0m eta \u001b[36m0:00:00\u001b[0m\n",
            "\u001b[?25h  Preparing metadata (setup.py) ... \u001b[?25l\u001b[?25hdone\n",
            "\u001b[2K     \u001b[90m━━━━━━━━━━━━━━━━━━━━━━━━━━━━━━━━━━━━━━━━\u001b[0m \u001b[32m62.7/62.7 kB\u001b[0m \u001b[31m9.3 MB/s\u001b[0m eta \u001b[36m0:00:00\u001b[0m\n",
            "\u001b[?25h  Building wheel for pathtools (setup.py) ... \u001b[?25l\u001b[?25hdone\n"
          ]
        }
      ]
    },
    {
      "cell_type": "code",
      "source": [
        "# !pip install dask"
      ],
      "metadata": {
        "execution": {
          "iopub.status.busy": "2023-09-29T12:15:18.465934Z",
          "iopub.execute_input": "2023-09-29T12:15:18.466305Z",
          "iopub.status.idle": "2023-09-29T12:15:18.470931Z",
          "shell.execute_reply.started": "2023-09-29T12:15:18.466265Z",
          "shell.execute_reply": "2023-09-29T12:15:18.470069Z"
        },
        "trusted": true,
        "id": "pBlN_lYSuQOu"
      },
      "execution_count": null,
      "outputs": []
    },
    {
      "cell_type": "code",
      "source": [
        "import pandas as pd\n",
        "from datasets import load_dataset\n",
        "from tqdm import tqdm"
      ],
      "metadata": {
        "id": "0OaSKNC3AvaX",
        "execution": {
          "iopub.status.busy": "2023-09-29T12:17:40.110533Z",
          "iopub.execute_input": "2023-09-29T12:17:40.111085Z",
          "iopub.status.idle": "2023-09-29T12:17:40.115285Z",
          "shell.execute_reply.started": "2023-09-29T12:17:40.111056Z",
          "shell.execute_reply": "2023-09-29T12:17:40.114388Z"
        },
        "trusted": true
      },
      "execution_count": null,
      "outputs": []
    },
    {
      "cell_type": "code",
      "source": [
        "# Check we have a GPU and check the memory size of the GPU\n",
        "!nvidia-smi"
      ],
      "metadata": {
        "colab": {
          "base_uri": "https://localhost:8080/"
        },
        "id": "Pn-G_eUwFovO",
        "outputId": "85ac114a-78de-4eaa-b4c4-a744f8c3a69d",
        "execution": {
          "iopub.status.busy": "2023-09-29T12:17:40.423457Z",
          "iopub.execute_input": "2023-09-29T12:17:40.423967Z",
          "iopub.status.idle": "2023-09-29T12:17:41.408040Z",
          "shell.execute_reply.started": "2023-09-29T12:17:40.423938Z",
          "shell.execute_reply": "2023-09-29T12:17:41.406934Z"
        },
        "trusted": true
      },
      "execution_count": null,
      "outputs": [
        {
          "output_type": "stream",
          "name": "stdout",
          "text": [
            "Mon Oct  9 16:02:09 2023       \n",
            "+-----------------------------------------------------------------------------+\n",
            "| NVIDIA-SMI 525.105.17   Driver Version: 525.105.17   CUDA Version: 12.0     |\n",
            "|-------------------------------+----------------------+----------------------+\n",
            "| GPU  Name        Persistence-M| Bus-Id        Disp.A | Volatile Uncorr. ECC |\n",
            "| Fan  Temp  Perf  Pwr:Usage/Cap|         Memory-Usage | GPU-Util  Compute M. |\n",
            "|                               |                      |               MIG M. |\n",
            "|===============================+======================+======================|\n",
            "|   0  Tesla T4            Off  | 00000000:00:04.0 Off |                    0 |\n",
            "| N/A   46C    P8     9W /  70W |      0MiB / 15360MiB |      0%      Default |\n",
            "|                               |                      |                  N/A |\n",
            "+-------------------------------+----------------------+----------------------+\n",
            "                                                                               \n",
            "+-----------------------------------------------------------------------------+\n",
            "| Processes:                                                                  |\n",
            "|  GPU   GI   CI        PID   Type   Process name                  GPU Memory |\n",
            "|        ID   ID                                                   Usage      |\n",
            "|=============================================================================|\n",
            "|  No running processes found                                                 |\n",
            "+-----------------------------------------------------------------------------+\n"
          ]
        }
      ]
    },
    {
      "cell_type": "markdown",
      "source": [
        "# **Import packages**"
      ],
      "metadata": {
        "id": "H0n55Ex1Bl2k"
      }
    },
    {
      "cell_type": "code",
      "source": [
        "import argparse\n",
        "import glob\n",
        "import os\n",
        "import json\n",
        "import time\n",
        "import logging\n",
        "import random\n",
        "import re\n",
        "from itertools import chain\n",
        "from string import punctuation\n",
        "\n",
        "import nltk\n",
        "nltk.download('punkt')\n",
        "from nltk.tokenize import sent_tokenize\n",
        "\n",
        "import pandas as pd\n",
        "import numpy as np\n",
        "import torch\n",
        "from torch.utils.data import Dataset, DataLoader\n",
        "\n",
        "from transformers import (\n",
        "    AdamW,\n",
        "    T5ForConditionalGeneration,\n",
        "    T5Tokenizer,\n",
        "    get_linear_schedule_with_warmup\n",
        ")"
      ],
      "metadata": {
        "colab": {
          "base_uri": "https://localhost:8080/"
        },
        "id": "ht8Fu9U2-IRG",
        "outputId": "7a04eef8-802b-4498-9a82-a664bd3a97de",
        "execution": {
          "iopub.status.busy": "2023-09-29T12:17:41.410054Z",
          "iopub.execute_input": "2023-09-29T12:17:41.410668Z",
          "iopub.status.idle": "2023-09-29T12:17:51.575530Z",
          "shell.execute_reply.started": "2023-09-29T12:17:41.410635Z",
          "shell.execute_reply": "2023-09-29T12:17:51.574594Z"
        },
        "trusted": true
      },
      "execution_count": null,
      "outputs": [
        {
          "output_type": "stream",
          "name": "stderr",
          "text": [
            "[nltk_data] Downloading package punkt to /root/nltk_data...\n",
            "[nltk_data]   Package punkt is already up-to-date!\n"
          ]
        }
      ]
    },
    {
      "cell_type": "code",
      "source": [
        "import random\n",
        "import numpy as np\n",
        "import torch\n",
        "import datasets"
      ],
      "metadata": {
        "id": "p03e0mY13jdV",
        "execution": {
          "iopub.status.busy": "2023-09-29T12:17:51.577483Z",
          "iopub.execute_input": "2023-09-29T12:17:51.578130Z",
          "iopub.status.idle": "2023-09-29T12:17:51.582909Z",
          "shell.execute_reply.started": "2023-09-29T12:17:51.578098Z",
          "shell.execute_reply": "2023-09-29T12:17:51.581912Z"
        },
        "trusted": true
      },
      "execution_count": null,
      "outputs": []
    },
    {
      "cell_type": "code",
      "source": [
        "import tensorflow_datasets"
      ],
      "metadata": {
        "execution": {
          "iopub.status.busy": "2023-09-29T12:17:51.584006Z",
          "iopub.execute_input": "2023-09-29T12:17:51.585102Z",
          "iopub.status.idle": "2023-09-29T12:17:52.777654Z",
          "shell.execute_reply.started": "2023-09-29T12:17:51.585070Z",
          "shell.execute_reply": "2023-09-29T12:17:52.776742Z"
        },
        "trusted": true,
        "id": "WD2btKKpuQO2"
      },
      "execution_count": null,
      "outputs": []
    },
    {
      "cell_type": "code",
      "source": [
        "def set_seed(seed):\n",
        "  random.seed(seed)\n",
        "  np.random.seed(seed)\n",
        "  torch.manual_seed(seed)\n",
        "\n",
        "set_seed(42)"
      ],
      "metadata": {
        "id": "CyrYjMFREUCn",
        "execution": {
          "iopub.status.busy": "2023-09-29T12:17:52.779904Z",
          "iopub.execute_input": "2023-09-29T12:17:52.780588Z",
          "iopub.status.idle": "2023-09-29T12:17:52.789572Z",
          "shell.execute_reply.started": "2023-09-29T12:17:52.780556Z",
          "shell.execute_reply": "2023-09-29T12:17:52.788530Z"
        },
        "trusted": true
      },
      "execution_count": null,
      "outputs": []
    },
    {
      "cell_type": "markdown",
      "source": [
        "# ***C4-200M dataset***"
      ],
      "metadata": {
        "id": "l7YZhzbl88AE"
      }
    },
    {
      "cell_type": "code",
      "source": [
        "# remove temp\n",
        "# rm -r /tmp/"
      ],
      "metadata": {
        "id": "IMTn7KwYPc9z",
        "execution": {
          "iopub.status.busy": "2023-09-29T12:17:52.791026Z",
          "iopub.execute_input": "2023-09-29T12:17:52.791682Z",
          "iopub.status.idle": "2023-09-29T12:17:52.806264Z",
          "shell.execute_reply.started": "2023-09-29T12:17:52.791646Z",
          "shell.execute_reply": "2023-09-29T12:17:52.805255Z"
        },
        "trusted": true
      },
      "execution_count": null,
      "outputs": []
    },
    {
      "cell_type": "code",
      "source": [
        "pd.set_option('display.max_colwidth', None)"
      ],
      "metadata": {
        "id": "bYqzCt4mfkoc",
        "execution": {
          "iopub.status.busy": "2023-09-29T12:17:52.807982Z",
          "iopub.execute_input": "2023-09-29T12:17:52.808295Z",
          "iopub.status.idle": "2023-09-29T12:17:52.814606Z",
          "shell.execute_reply.started": "2023-09-29T12:17:52.808266Z",
          "shell.execute_reply": "2023-09-29T12:17:52.813616Z"
        },
        "trusted": true
      },
      "execution_count": null,
      "outputs": []
    },
    {
      "cell_type": "code",
      "source": [
        "# df = pd.read_csv('/content/drive/MyDrive/c4_200m/c4_200m_550k.csv')\n",
        "# df = pd.read_csv('/content/c4data.csv')\n",
        "len_df = 18386520  # C4_200M.tsv-00000-of-00010\n",
        "start =  1838651 # 919325 +\n",
        "end = int(18386520/20)"
      ],
      "metadata": {
        "execution": {
          "iopub.status.busy": "2023-09-29T12:22:32.837917Z",
          "iopub.execute_input": "2023-09-29T12:22:32.838292Z",
          "iopub.status.idle": "2023-09-29T12:22:32.842804Z",
          "shell.execute_reply.started": "2023-09-29T12:22:32.838253Z",
          "shell.execute_reply": "2023-09-29T12:22:32.841917Z"
        },
        "trusted": true,
        "id": "R8LrV20ruQO4"
      },
      "execution_count": null,
      "outputs": []
    },
    {
      "cell_type": "code",
      "source": [
        "start = 4000000\n",
        "end = 4500000"
      ],
      "metadata": {
        "execution": {
          "iopub.status.busy": "2023-09-29T14:23:23.372993Z",
          "iopub.execute_input": "2023-09-29T14:23:23.373330Z",
          "iopub.status.idle": "2023-09-29T14:23:23.379341Z",
          "shell.execute_reply.started": "2023-09-29T14:23:23.373302Z",
          "shell.execute_reply": "2023-09-29T14:23:23.378136Z"
        },
        "trusted": true,
        "id": "vhFO2w4ZuQO5"
      },
      "execution_count": null,
      "outputs": []
    },
    {
      "cell_type": "code",
      "source": [
        "print(start, end, end - start)"
      ],
      "metadata": {
        "execution": {
          "iopub.status.busy": "2023-09-29T14:23:11.436723Z",
          "iopub.execute_input": "2023-09-29T14:23:11.437128Z",
          "iopub.status.idle": "2023-09-29T14:23:11.447003Z",
          "shell.execute_reply.started": "2023-09-29T14:23:11.437099Z",
          "shell.execute_reply": "2023-09-29T14:23:11.446009Z"
        },
        "trusted": true,
        "colab": {
          "base_uri": "https://localhost:8080/"
        },
        "id": "-Gt_IpcpuQO5",
        "outputId": "e10088e8-c18f-4ba7-a723-e62c014a4b05"
      },
      "execution_count": null,
      "outputs": [
        {
          "output_type": "stream",
          "name": "stdout",
          "text": [
            "4000000 4500000 500000\n"
          ]
        }
      ]
    },
    {
      "cell_type": "code",
      "source": [
        "# Unzip the data file\n",
        "def unzip(zip_file=None):\n",
        "    try:\n",
        "        with zipfile.ZipFile(zip_file) as z:\n",
        "            z.extractall(\"./\")\n",
        "            print(\"Extracted all\")\n",
        "    except:\n",
        "        print(\"Invalid file\")\n",
        "\n",
        "# unzip('/content/drive/MyDrive/LMS_Document/Code/t5_gec_model_03.zip')"
      ],
      "metadata": {
        "id": "aJ2y0BCju-Ik"
      },
      "execution_count": null,
      "outputs": []
    },
    {
      "cell_type": "code",
      "source": [
        "# , skiprows=1000000, nrows=999999)\n",
        "# df_main = pd.read_csv('/kaggle/input/c4200m/C4_200M.tsv-00000-of-00010', delimiter='\\t', skiprows=start, nrows=end) # on_bad_lines='skip\n",
        "df_main = pd.read_csv('/content/drive/MyDrive/LMS_Document/Code/C4_200M.tsv-00000-of-00010',delimiter='\\t',skiprows=start, nrows=end)"
      ],
      "metadata": {
        "id": "SWQZdyVlfLL_",
        "execution": {
          "iopub.status.busy": "2023-09-29T12:21:07.671434Z",
          "iopub.execute_input": "2023-09-29T12:21:07.672393Z",
          "iopub.status.idle": "2023-09-29T12:21:40.404960Z",
          "shell.execute_reply.started": "2023-09-29T12:21:07.672353Z",
          "shell.execute_reply": "2023-09-29T12:21:40.403960Z"
        },
        "trusted": true
      },
      "execution_count": null,
      "outputs": []
    },
    {
      "cell_type": "code",
      "source": [
        "df_main.columns = [\"input\", \"target\"]"
      ],
      "metadata": {
        "id": "8AcvjhlVfPe2",
        "execution": {
          "iopub.status.busy": "2023-09-29T12:21:40.406854Z",
          "iopub.execute_input": "2023-09-29T12:21:40.407179Z",
          "iopub.status.idle": "2023-09-29T12:21:40.412044Z",
          "shell.execute_reply.started": "2023-09-29T12:21:40.407148Z",
          "shell.execute_reply": "2023-09-29T12:21:40.410846Z"
        },
        "trusted": true
      },
      "execution_count": null,
      "outputs": []
    },
    {
      "cell_type": "code",
      "source": [
        "df = df_main"
      ],
      "metadata": {
        "execution": {
          "iopub.status.busy": "2023-09-29T12:21:48.301137Z",
          "iopub.execute_input": "2023-09-29T12:21:48.301471Z",
          "iopub.status.idle": "2023-09-29T12:21:48.307808Z",
          "shell.execute_reply.started": "2023-09-29T12:21:48.301442Z",
          "shell.execute_reply": "2023-09-29T12:21:48.306857Z"
        },
        "trusted": true,
        "id": "Sr3VH-MsuQPH"
      },
      "execution_count": null,
      "outputs": []
    },
    {
      "cell_type": "code",
      "source": [
        "df = df_main.iloc[4000000:4300000]\n",
        "df # 919325 + 1838651 -- 100000 -- 3419332 4419332 1000000 --"
      ],
      "metadata": {
        "execution": {
          "iopub.status.busy": "2023-09-29T14:23:30.100347Z",
          "iopub.execute_input": "2023-09-29T14:23:30.100755Z",
          "iopub.status.idle": "2023-09-29T14:23:30.128067Z",
          "shell.execute_reply.started": "2023-09-29T14:23:30.100725Z",
          "shell.execute_reply": "2023-09-29T14:23:30.127050Z"
        },
        "trusted": true,
        "colab": {
          "base_uri": "https://localhost:8080/",
          "height": 597
        },
        "id": "hrW5TBIauQPH",
        "outputId": "ffc9625f-8105-4d70-e579-464e418beb5c"
      },
      "execution_count": null,
      "outputs": [
        {
          "output_type": "execute_result",
          "data": {
            "text/plain": [
              "                                                                                                                                                                                                                                                                                                                                   input  \\\n",
              "4000000                                                                                                                                                                                                                                                                            SANDYS, Samuel (1560-1623), this of Ombersley, Worcs.   \n",
              "4000001                                                                                                                                                             Walnut Hair Color 187799 32 Likes 7 Ments San Diego Hairstylist Kristinareneehair On Uploaded by Caress Robert on Friday November 16th, 2018 in category Hair Color.   \n",
              "4000002                                                                                                                                                                                                                                 Tuners These are also a small thing, but rarely they are collected and needed for steel strings.   \n",
              "4000003                                                                                                                                                                                                                                                                    haemoglobinuria (Brietischer Journal: hematology?, 89, 79-82.   \n",
              "4000004                                                                                                                                                                                                                        BTITF has the right of being in the Eurojumelages board, and this year I was elected as Deputy Treasurer.   \n",
              "...                                                                                                                                                                                                                                                                                                                                  ...   \n",
              "4299995                                                                                                                                   Thanks, Jen there's so much for process that I still don't see an end in sight :) Let me know if you need more information about ProGen I really learned a lot from going through the program.   \n",
              "4299996  The cost per ticket range from 500Euro forS for a full access to conference-only tickets for 250 Euro you also can get tutorial-only pass if you only like to get-in for those sessions (for 295 Euro) conference is happens in 11th June through 13th so be sure to receive your ticket quickly and reservation your spot now!   \n",
              "4299997                                                                                                                                                                                                                                                            Describing about Deciduous: Berberis thunbergii Rosy Rocket PP18,413\"   \n",
              "4299998                                                                                                                                                                                                                                                                    Where The tournament were place 13:00 25th of Feb in house 7.   \n",
              "4299999                                                                                                                                                                                                                                                                                                        but I don't have twetter.   \n",
              "\n",
              "                                                                                                                                                                                                                                                                                                                                target  \n",
              "4000000                                                                                                                                                                                                                                                                               SANDYS, Samuel (1560-1623), of Ombersley, Worcs.  \n",
              "4000001                                                                                                                                                          Walnut Hair Color 187799 32 Likes 7 Ments San Diego Hairstylist Kristinareneehair On Uploaded by Caress Robert on Friday, November 16th, 2018 in category Hair Color.  \n",
              "4000002                                                                                                                                                                                                                                  Tuners These are also a small thing, but rarely supplied and are necessary for steel strings.  \n",
              "4000003                                                                                                                                                                                                                                                                    haemoglobinuria. British Journal of Haematology, 89, 79–82.  \n",
              "4000004                                                                                                                                                                                                                      BTITF has the right of being in the Eurojumelages board, and this year I was elected as Deputy Treasurer.  \n",
              "...                                                                                                                                                                                                                                                                                                                                ...  \n",
              "4299995                                                                                                                                Thanks, Jen. There's so much to process that I still don't see an end in sight :) Let me know if you need more information about ProGen. I really learned a lot from going through the program.  \n",
              "4299996  The cost per ticket ranges from 500 Euro for a full access pass to conference-only tickets for 250 Euro. You can also get a tutorial-only pass if you'd only like to get in on those sessions (for 295 Euro). The conference happens June 11th through 13th so be sure to get your tickets quickly and reserve your spot now!  \n",
              "4299997                                                                                                                                                                                                                                                        description for \"Deciduous: Berberis thunbergii 'Rosy Rocket' PP18,413\"  \n",
              "4299998                                                                                                                                                                                                                                                            Where? The tournament will take place 13:00 25th of Feb in house 7.  \n",
              "4299999                                                                                                                                                                                                                                                                                                      but I don't have twitter.  \n",
              "\n",
              "[300000 rows x 2 columns]"
            ],
            "text/html": [
              "\n",
              "  <div id=\"df-3c401caf-b75c-4d30-b667-2df939d68984\" class=\"colab-df-container\">\n",
              "    <div>\n",
              "<style scoped>\n",
              "    .dataframe tbody tr th:only-of-type {\n",
              "        vertical-align: middle;\n",
              "    }\n",
              "\n",
              "    .dataframe tbody tr th {\n",
              "        vertical-align: top;\n",
              "    }\n",
              "\n",
              "    .dataframe thead th {\n",
              "        text-align: right;\n",
              "    }\n",
              "</style>\n",
              "<table border=\"1\" class=\"dataframe\">\n",
              "  <thead>\n",
              "    <tr style=\"text-align: right;\">\n",
              "      <th></th>\n",
              "      <th>input</th>\n",
              "      <th>target</th>\n",
              "    </tr>\n",
              "  </thead>\n",
              "  <tbody>\n",
              "    <tr>\n",
              "      <th>4000000</th>\n",
              "      <td>SANDYS, Samuel (1560-1623), this of Ombersley, Worcs.</td>\n",
              "      <td>SANDYS, Samuel (1560-1623), of Ombersley, Worcs.</td>\n",
              "    </tr>\n",
              "    <tr>\n",
              "      <th>4000001</th>\n",
              "      <td>Walnut Hair Color 187799 32 Likes 7 Ments San Diego Hairstylist Kristinareneehair On Uploaded by Caress Robert on Friday November 16th, 2018 in category Hair Color.</td>\n",
              "      <td>Walnut Hair Color 187799 32 Likes 7 Ments San Diego Hairstylist Kristinareneehair On Uploaded by Caress Robert on Friday, November 16th, 2018 in category Hair Color.</td>\n",
              "    </tr>\n",
              "    <tr>\n",
              "      <th>4000002</th>\n",
              "      <td>Tuners These are also a small thing, but rarely they are collected and needed for steel strings.</td>\n",
              "      <td>Tuners These are also a small thing, but rarely supplied and are necessary for steel strings.</td>\n",
              "    </tr>\n",
              "    <tr>\n",
              "      <th>4000003</th>\n",
              "      <td>haemoglobinuria (Brietischer Journal: hematology?, 89, 79-82.</td>\n",
              "      <td>haemoglobinuria. British Journal of Haematology, 89, 79–82.</td>\n",
              "    </tr>\n",
              "    <tr>\n",
              "      <th>4000004</th>\n",
              "      <td>BTITF has the right of being in the Eurojumelages board, and this year I was elected as Deputy Treasurer.</td>\n",
              "      <td>BTITF has the right of being in the Eurojumelages board, and this year I was elected as Deputy Treasurer.</td>\n",
              "    </tr>\n",
              "    <tr>\n",
              "      <th>...</th>\n",
              "      <td>...</td>\n",
              "      <td>...</td>\n",
              "    </tr>\n",
              "    <tr>\n",
              "      <th>4299995</th>\n",
              "      <td>Thanks, Jen there's so much for process that I still don't see an end in sight :) Let me know if you need more information about ProGen I really learned a lot from going through the program.</td>\n",
              "      <td>Thanks, Jen. There's so much to process that I still don't see an end in sight :) Let me know if you need more information about ProGen. I really learned a lot from going through the program.</td>\n",
              "    </tr>\n",
              "    <tr>\n",
              "      <th>4299996</th>\n",
              "      <td>The cost per ticket range from 500Euro forS for a full access to conference-only tickets for 250 Euro you also can get tutorial-only pass if you only like to get-in for those sessions (for 295 Euro) conference is happens in 11th June through 13th so be sure to receive your ticket quickly and reservation your spot now!</td>\n",
              "      <td>The cost per ticket ranges from 500 Euro for a full access pass to conference-only tickets for 250 Euro. You can also get a tutorial-only pass if you'd only like to get in on those sessions (for 295 Euro). The conference happens June 11th through 13th so be sure to get your tickets quickly and reserve your spot now!</td>\n",
              "    </tr>\n",
              "    <tr>\n",
              "      <th>4299997</th>\n",
              "      <td>Describing about Deciduous: Berberis thunbergii Rosy Rocket PP18,413\"</td>\n",
              "      <td>description for \"Deciduous: Berberis thunbergii 'Rosy Rocket' PP18,413\"</td>\n",
              "    </tr>\n",
              "    <tr>\n",
              "      <th>4299998</th>\n",
              "      <td>Where The tournament were place 13:00 25th of Feb in house 7.</td>\n",
              "      <td>Where? The tournament will take place 13:00 25th of Feb in house 7.</td>\n",
              "    </tr>\n",
              "    <tr>\n",
              "      <th>4299999</th>\n",
              "      <td>but I don't have twetter.</td>\n",
              "      <td>but I don't have twitter.</td>\n",
              "    </tr>\n",
              "  </tbody>\n",
              "</table>\n",
              "<p>300000 rows × 2 columns</p>\n",
              "</div>\n",
              "    <div class=\"colab-df-buttons\">\n",
              "\n",
              "  <div class=\"colab-df-container\">\n",
              "    <button class=\"colab-df-convert\" onclick=\"convertToInteractive('df-3c401caf-b75c-4d30-b667-2df939d68984')\"\n",
              "            title=\"Convert this dataframe to an interactive table.\"\n",
              "            style=\"display:none;\">\n",
              "\n",
              "  <svg xmlns=\"http://www.w3.org/2000/svg\" height=\"24px\" viewBox=\"0 -960 960 960\">\n",
              "    <path d=\"M120-120v-720h720v720H120Zm60-500h600v-160H180v160Zm220 220h160v-160H400v160Zm0 220h160v-160H400v160ZM180-400h160v-160H180v160Zm440 0h160v-160H620v160ZM180-180h160v-160H180v160Zm440 0h160v-160H620v160Z\"/>\n",
              "  </svg>\n",
              "    </button>\n",
              "\n",
              "  <style>\n",
              "    .colab-df-container {\n",
              "      display:flex;\n",
              "      gap: 12px;\n",
              "    }\n",
              "\n",
              "    .colab-df-convert {\n",
              "      background-color: #E8F0FE;\n",
              "      border: none;\n",
              "      border-radius: 50%;\n",
              "      cursor: pointer;\n",
              "      display: none;\n",
              "      fill: #1967D2;\n",
              "      height: 32px;\n",
              "      padding: 0 0 0 0;\n",
              "      width: 32px;\n",
              "    }\n",
              "\n",
              "    .colab-df-convert:hover {\n",
              "      background-color: #E2EBFA;\n",
              "      box-shadow: 0px 1px 2px rgba(60, 64, 67, 0.3), 0px 1px 3px 1px rgba(60, 64, 67, 0.15);\n",
              "      fill: #174EA6;\n",
              "    }\n",
              "\n",
              "    .colab-df-buttons div {\n",
              "      margin-bottom: 4px;\n",
              "    }\n",
              "\n",
              "    [theme=dark] .colab-df-convert {\n",
              "      background-color: #3B4455;\n",
              "      fill: #D2E3FC;\n",
              "    }\n",
              "\n",
              "    [theme=dark] .colab-df-convert:hover {\n",
              "      background-color: #434B5C;\n",
              "      box-shadow: 0px 1px 3px 1px rgba(0, 0, 0, 0.15);\n",
              "      filter: drop-shadow(0px 1px 2px rgba(0, 0, 0, 0.3));\n",
              "      fill: #FFFFFF;\n",
              "    }\n",
              "  </style>\n",
              "\n",
              "    <script>\n",
              "      const buttonEl =\n",
              "        document.querySelector('#df-3c401caf-b75c-4d30-b667-2df939d68984 button.colab-df-convert');\n",
              "      buttonEl.style.display =\n",
              "        google.colab.kernel.accessAllowed ? 'block' : 'none';\n",
              "\n",
              "      async function convertToInteractive(key) {\n",
              "        const element = document.querySelector('#df-3c401caf-b75c-4d30-b667-2df939d68984');\n",
              "        const dataTable =\n",
              "          await google.colab.kernel.invokeFunction('convertToInteractive',\n",
              "                                                    [key], {});\n",
              "        if (!dataTable) return;\n",
              "\n",
              "        const docLinkHtml = 'Like what you see? Visit the ' +\n",
              "          '<a target=\"_blank\" href=https://colab.research.google.com/notebooks/data_table.ipynb>data table notebook</a>'\n",
              "          + ' to learn more about interactive tables.';\n",
              "        element.innerHTML = '';\n",
              "        dataTable['output_type'] = 'display_data';\n",
              "        await google.colab.output.renderOutput(dataTable, element);\n",
              "        const docLink = document.createElement('div');\n",
              "        docLink.innerHTML = docLinkHtml;\n",
              "        element.appendChild(docLink);\n",
              "      }\n",
              "    </script>\n",
              "  </div>\n",
              "\n",
              "\n",
              "<div id=\"df-e2612c5f-24fa-42b1-8c83-f856847155b7\">\n",
              "  <button class=\"colab-df-quickchart\" onclick=\"quickchart('df-e2612c5f-24fa-42b1-8c83-f856847155b7')\"\n",
              "            title=\"Suggest charts.\"\n",
              "            style=\"display:none;\">\n",
              "\n",
              "<svg xmlns=\"http://www.w3.org/2000/svg\" height=\"24px\"viewBox=\"0 0 24 24\"\n",
              "     width=\"24px\">\n",
              "    <g>\n",
              "        <path d=\"M19 3H5c-1.1 0-2 .9-2 2v14c0 1.1.9 2 2 2h14c1.1 0 2-.9 2-2V5c0-1.1-.9-2-2-2zM9 17H7v-7h2v7zm4 0h-2V7h2v10zm4 0h-2v-4h2v4z\"/>\n",
              "    </g>\n",
              "</svg>\n",
              "  </button>\n",
              "\n",
              "<style>\n",
              "  .colab-df-quickchart {\n",
              "      --bg-color: #E8F0FE;\n",
              "      --fill-color: #1967D2;\n",
              "      --hover-bg-color: #E2EBFA;\n",
              "      --hover-fill-color: #174EA6;\n",
              "      --disabled-fill-color: #AAA;\n",
              "      --disabled-bg-color: #DDD;\n",
              "  }\n",
              "\n",
              "  [theme=dark] .colab-df-quickchart {\n",
              "      --bg-color: #3B4455;\n",
              "      --fill-color: #D2E3FC;\n",
              "      --hover-bg-color: #434B5C;\n",
              "      --hover-fill-color: #FFFFFF;\n",
              "      --disabled-bg-color: #3B4455;\n",
              "      --disabled-fill-color: #666;\n",
              "  }\n",
              "\n",
              "  .colab-df-quickchart {\n",
              "    background-color: var(--bg-color);\n",
              "    border: none;\n",
              "    border-radius: 50%;\n",
              "    cursor: pointer;\n",
              "    display: none;\n",
              "    fill: var(--fill-color);\n",
              "    height: 32px;\n",
              "    padding: 0;\n",
              "    width: 32px;\n",
              "  }\n",
              "\n",
              "  .colab-df-quickchart:hover {\n",
              "    background-color: var(--hover-bg-color);\n",
              "    box-shadow: 0 1px 2px rgba(60, 64, 67, 0.3), 0 1px 3px 1px rgba(60, 64, 67, 0.15);\n",
              "    fill: var(--button-hover-fill-color);\n",
              "  }\n",
              "\n",
              "  .colab-df-quickchart-complete:disabled,\n",
              "  .colab-df-quickchart-complete:disabled:hover {\n",
              "    background-color: var(--disabled-bg-color);\n",
              "    fill: var(--disabled-fill-color);\n",
              "    box-shadow: none;\n",
              "  }\n",
              "\n",
              "  .colab-df-spinner {\n",
              "    border: 2px solid var(--fill-color);\n",
              "    border-color: transparent;\n",
              "    border-bottom-color: var(--fill-color);\n",
              "    animation:\n",
              "      spin 1s steps(1) infinite;\n",
              "  }\n",
              "\n",
              "  @keyframes spin {\n",
              "    0% {\n",
              "      border-color: transparent;\n",
              "      border-bottom-color: var(--fill-color);\n",
              "      border-left-color: var(--fill-color);\n",
              "    }\n",
              "    20% {\n",
              "      border-color: transparent;\n",
              "      border-left-color: var(--fill-color);\n",
              "      border-top-color: var(--fill-color);\n",
              "    }\n",
              "    30% {\n",
              "      border-color: transparent;\n",
              "      border-left-color: var(--fill-color);\n",
              "      border-top-color: var(--fill-color);\n",
              "      border-right-color: var(--fill-color);\n",
              "    }\n",
              "    40% {\n",
              "      border-color: transparent;\n",
              "      border-right-color: var(--fill-color);\n",
              "      border-top-color: var(--fill-color);\n",
              "    }\n",
              "    60% {\n",
              "      border-color: transparent;\n",
              "      border-right-color: var(--fill-color);\n",
              "    }\n",
              "    80% {\n",
              "      border-color: transparent;\n",
              "      border-right-color: var(--fill-color);\n",
              "      border-bottom-color: var(--fill-color);\n",
              "    }\n",
              "    90% {\n",
              "      border-color: transparent;\n",
              "      border-bottom-color: var(--fill-color);\n",
              "    }\n",
              "  }\n",
              "</style>\n",
              "\n",
              "  <script>\n",
              "    async function quickchart(key) {\n",
              "      const quickchartButtonEl =\n",
              "        document.querySelector('#' + key + ' button');\n",
              "      quickchartButtonEl.disabled = true;  // To prevent multiple clicks.\n",
              "      quickchartButtonEl.classList.add('colab-df-spinner');\n",
              "      try {\n",
              "        const charts = await google.colab.kernel.invokeFunction(\n",
              "            'suggestCharts', [key], {});\n",
              "      } catch (error) {\n",
              "        console.error('Error during call to suggestCharts:', error);\n",
              "      }\n",
              "      quickchartButtonEl.classList.remove('colab-df-spinner');\n",
              "      quickchartButtonEl.classList.add('colab-df-quickchart-complete');\n",
              "    }\n",
              "    (() => {\n",
              "      let quickchartButtonEl =\n",
              "        document.querySelector('#df-e2612c5f-24fa-42b1-8c83-f856847155b7 button');\n",
              "      quickchartButtonEl.style.display =\n",
              "        google.colab.kernel.accessAllowed ? 'block' : 'none';\n",
              "    })();\n",
              "  </script>\n",
              "</div>\n",
              "    </div>\n",
              "  </div>\n"
            ]
          },
          "metadata": {},
          "execution_count": 15
        }
      ]
    },
    {
      "cell_type": "code",
      "source": [
        "# Hiển thị thông tin cơ bản về dataframe\n",
        "print(\"Thông tin cơ bản về dataframe:\")\n",
        "print(df.info())\n",
        "\n",
        "# Hiển thị một số hàng đầu tiên của dataframe\n",
        "print(\"\\nMột số hàng đầu tiên của dataframe:\")\n",
        "print(df.head())\n",
        "\n",
        "# Kiểm tra xem có giá trị bị thiếu (NaN) trong dataframe không\n",
        "print(\"\\nKiểm tra giá trị bị thiếu trong dataframe:\")\n",
        "print(df.isnull().sum())\n"
      ],
      "metadata": {
        "colab": {
          "base_uri": "https://localhost:8080/"
        },
        "id": "10Y3TzfXB9Rj",
        "outputId": "86c51cc7-2204-443b-dda6-0529abd47035"
      },
      "execution_count": null,
      "outputs": [
        {
          "output_type": "stream",
          "name": "stdout",
          "text": [
            "Thông tin cơ bản về dataframe:\n",
            "<class 'pandas.core.frame.DataFrame'>\n",
            "RangeIndex: 300000 entries, 4000000 to 4299999\n",
            "Data columns (total 2 columns):\n",
            " #   Column  Non-Null Count   Dtype \n",
            "---  ------  --------------   ----- \n",
            " 0   input   300000 non-null  object\n",
            " 1   target  299999 non-null  object\n",
            "dtypes: object(2)\n",
            "memory usage: 4.6+ MB\n",
            "None\n",
            "\n",
            "Một số hàng đầu tiên của dataframe:\n",
            "                                                                                                                                                                        input  \\\n",
            "4000000                                                                                                                 SANDYS, Samuel (1560-1623), this of Ombersley, Worcs.   \n",
            "4000001  Walnut Hair Color 187799 32 Likes 7 Ments San Diego Hairstylist Kristinareneehair On Uploaded by Caress Robert on Friday November 16th, 2018 in category Hair Color.   \n",
            "4000002                                                                      Tuners These are also a small thing, but rarely they are collected and needed for steel strings.   \n",
            "4000003                                                                                                         haemoglobinuria (Brietischer Journal: hematology?, 89, 79-82.   \n",
            "4000004                                                             BTITF has the right of being in the Eurojumelages board, and this year I was elected as Deputy Treasurer.   \n",
            "\n",
            "                                                                                                                                                                        target  \n",
            "4000000                                                                                                                       SANDYS, Samuel (1560-1623), of Ombersley, Worcs.  \n",
            "4000001  Walnut Hair Color 187799 32 Likes 7 Ments San Diego Hairstylist Kristinareneehair On Uploaded by Caress Robert on Friday, November 16th, 2018 in category Hair Color.  \n",
            "4000002                                                                          Tuners These are also a small thing, but rarely supplied and are necessary for steel strings.  \n",
            "4000003                                                                                                            haemoglobinuria. British Journal of Haematology, 89, 79–82.  \n",
            "4000004                                                              BTITF has the right of being in the Eurojumelages board, and this year I was elected as Deputy Treasurer.  \n",
            "\n",
            "Kiểm tra giá trị bị thiếu trong dataframe:\n",
            "input     0\n",
            "target    1\n",
            "dtype: int64\n"
          ]
        }
      ]
    },
    {
      "cell_type": "code",
      "source": [
        "# Loại bỏ các hàng chứa giá trị bị thiếu (NaN) trong dataframe\n",
        "df.dropna(inplace=True)\n",
        "\n",
        "print(\"Thông tin cơ bản sau khi loại bỏ giá trị bị thiếu:\")\n",
        "print(df.info())\n",
        "print(\"\\nKiểm tra giá trị bị thiếu trong dataframe sau khi loại bỏ:\")\n",
        "print(df.isnull().sum())"
      ],
      "metadata": {
        "colab": {
          "base_uri": "https://localhost:8080/"
        },
        "id": "reSJPEUsCKvb",
        "outputId": "fdf7ffd1-46a9-4411-832d-e3209026fcdf"
      },
      "execution_count": null,
      "outputs": [
        {
          "output_type": "stream",
          "name": "stdout",
          "text": [
            "Thông tin cơ bản sau khi loại bỏ giá trị bị thiếu:\n",
            "<class 'pandas.core.frame.DataFrame'>\n",
            "Int64Index: 299999 entries, 4000000 to 4299999\n",
            "Data columns (total 2 columns):\n",
            " #   Column  Non-Null Count   Dtype \n",
            "---  ------  --------------   ----- \n",
            " 0   input   299999 non-null  object\n",
            " 1   target  299999 non-null  object\n",
            "dtypes: object(2)\n",
            "memory usage: 6.9+ MB\n",
            "None\n",
            "\n",
            "Kiểm tra giá trị bị thiếu trong dataframe sau khi loại bỏ:\n",
            "input     0\n",
            "target    0\n",
            "dtype: int64\n"
          ]
        },
        {
          "output_type": "stream",
          "name": "stderr",
          "text": [
            "<ipython-input-17-47ff485d68f8>:2: SettingWithCopyWarning: \n",
            "A value is trying to be set on a copy of a slice from a DataFrame\n",
            "\n",
            "See the caveats in the documentation: https://pandas.pydata.org/pandas-docs/stable/user_guide/indexing.html#returning-a-view-versus-a-copy\n",
            "  df.dropna(inplace=True)\n"
          ]
        }
      ]
    },
    {
      "cell_type": "code",
      "source": [
        "from transformers import (\n",
        "    T5ForConditionalGeneration, T5Tokenizer,\n",
        "    Seq2SeqTrainingArguments, Seq2SeqTrainer, DataCollatorForSeq2Seq\n",
        "  )\n",
        "\n",
        "from torch.utils.data import Dataset, DataLoader"
      ],
      "metadata": {
        "id": "6ANFcc6SE0p2",
        "execution": {
          "iopub.status.busy": "2023-09-29T14:37:32.825921Z",
          "iopub.execute_input": "2023-09-29T14:37:32.826539Z",
          "iopub.status.idle": "2023-09-29T14:37:32.835000Z",
          "shell.execute_reply.started": "2023-09-29T14:37:32.826505Z",
          "shell.execute_reply": "2023-09-29T14:37:32.833429Z"
        },
        "trusted": true
      },
      "execution_count": null,
      "outputs": []
    },
    {
      "cell_type": "code",
      "source": [
        "# model_name = 't5-base'\n",
        "# tokenizer = T5Tokenizer.from_pretrained(model_name)\n",
        "# model = T5ForConditionalGeneration.from_pretrained(model_name)"
      ],
      "metadata": {
        "id": "35po7q9CE57P",
        "execution": {
          "iopub.status.busy": "2023-09-29T12:22:56.964108Z",
          "iopub.execute_input": "2023-09-29T12:22:56.964758Z",
          "iopub.status.idle": "2023-09-29T12:23:34.696078Z",
          "shell.execute_reply.started": "2023-09-29T12:22:56.964725Z",
          "shell.execute_reply": "2023-09-29T12:23:34.695247Z"
        },
        "trusted": true
      },
      "execution_count": null,
      "outputs": []
    },
    {
      "cell_type": "code",
      "source": [
        "!unrar x /content/drive/MyDrive/LMS_Document/Code/t5_gec_model_03.rar"
      ],
      "metadata": {
        "colab": {
          "base_uri": "https://localhost:8080/"
        },
        "id": "tjbpFjqf9Pqx",
        "outputId": "a4cc9694-547f-49b9-f1d8-8f904fa67073"
      },
      "execution_count": null,
      "outputs": [
        {
          "output_type": "stream",
          "name": "stdout",
          "text": [
            "\n",
            "UNRAR 6.11 beta 1 freeware      Copyright (c) 1993-2022 Alexander Roshal\n",
            "\n",
            "\n",
            "Extracting from /content/drive/MyDrive/LMS_Document/Code/t5_gec_model_03.rar\n",
            "\n",
            "Creating    t5_gec_model_03                                           OK\n",
            "Extracting  t5_gec_model_03/config.json                                  \b\b\b\b  0%\b\b\b\b\b  OK \n",
            "Extracting  t5_gec_model_03/generation_config.json                       \b\b\b\b  0%\b\b\b\b\b  OK \n",
            "Extracting  t5_gec_model_03/pytorch_model.bin                            \b\b\b\b  0%\b\b\b\b  1%\b\b\b\b  2%\b\b\b\b  3%\b\b\b\b  4%\b\b\b\b  5%\b\b\b\b  6%\b\b\b\b  7%\b\b\b\b  8%\b\b\b\b  9%\b\b\b\b 10%\b\b\b\b 11%\b\b\b\b 12%\b\b\b\b 13%\b\b\b\b 14%\b\b\b\b 15%\b\b\b\b 16%\b\b\b\b 17%\b\b\b\b 18%\b\b\b\b 19%\b\b\b\b 20%\b\b\b\b 21%\b\b\b\b 22%\b\b\b\b 23%\b\b\b\b 24%\b\b\b\b 25%\b\b\b\b 26%\b\b\b\b 27%\b\b\b\b 28%\b\b\b\b 29%\b\b\b\b 30%\b\b\b\b 31%\b\b\b\b 32%\b\b\b\b 33%\b\b\b\b 34%\b\b\b\b 35%\b\b\b\b 36%\b\b\b\b 37%\b\b\b\b 38%\b\b\b\b 39%\b\b\b\b 40%\b\b\b\b 41%\b\b\b\b 42%\b\b\b\b 43%\b\b\b\b 44%\b\b\b\b 45%\b\b\b\b 46%\b\b\b\b 47%\b\b\b\b 48%\b\b\b\b 49%\b\b\b\b 50%\b\b\b\b 51%\b\b\b\b 52%\b\b\b\b 53%\b\b\b\b 54%\b\b\b\b 55%\b\b\b\b 56%\b\b\b\b 57%\b\b\b\b 58%\b\b\b\b 59%\b\b\b\b 60%\b\b\b\b 61%\b\b\b\b 62%\b\b\b\b 63%\b\b\b\b 64%\b\b\b\b 65%\b\b\b\b 66%\b\b\b\b 67%\b\b\b\b 68%\b\b\b\b 69%\b\b\b\b 70%\b\b\b\b 71%\b\b\b\b 72%\b\b\b\b 73%\b\b\b\b 74%\b\b\b\b 75%\b\b\b\b 76%\b\b\b\b 77%\b\b\b\b 78%\b\b\b\b 79%\b\b\b\b 80%\b\b\b\b 81%\b\b\b\b 82%\b\b\b\b 83%\b\b\b\b 84%\b\b\b\b 85%\b\b\b\b 86%\b\b\b\b 87%\b\b\b\b 88%\b\b\b\b 89%\b\b\b\b 90%\b\b\b\b 91%\b\b\b\b 92%\b\b\b\b 93%\b\b\b\b 94%\b\b\b\b 95%\b\b\b\b 96%\b\b\b\b 97%\b\b\b\b 98%\b\b\b\b 99%\b\b\b\b\b  OK \n",
            "Extracting  t5_gec_model_03/special_tokens_map.json                      \b\b\b\b 99%\b\b\b\b\b  OK \n",
            "Extracting  t5_gec_model_03/spiece.model                                 \b\b\b\b 99%\b\b\b\b\b  OK \n",
            "Extracting  t5_gec_model_03/tokenizer_config.json                        \b\b\b\b 99%\b\b\b\b\b  OK \n",
            "Extracting  t5_gec_model_03/training_args.bin                            \b\b\b\b 99%\b\b\b\b\b  OK \n",
            "All OK\n"
          ]
        }
      ]
    },
    {
      "cell_type": "code",
      "source": [
        "# model_name = '/content/t5_gec_model_03'\n",
        "model_name = '/content/drive/MyDrive/c4_200m/weights/checkpoint-1000'\n",
        "\n",
        "# model_name = '/kaggle/input/t5-gec/kaggle/working/t5_gec_model_02'\n",
        "\n",
        "torch_device = 'cuda' if torch.cuda.is_available() else 'cpu'\n",
        "tokenizer = T5Tokenizer.from_pretrained(model_name)\n",
        "model = T5ForConditionalGeneration.from_pretrained(model_name).to(torch_device)"
      ],
      "metadata": {
        "execution": {
          "iopub.status.busy": "2023-09-29T14:23:58.766589Z",
          "iopub.execute_input": "2023-09-29T14:23:58.766939Z",
          "iopub.status.idle": "2023-09-29T14:24:02.038236Z",
          "shell.execute_reply.started": "2023-09-29T14:23:58.766911Z",
          "shell.execute_reply": "2023-09-29T14:24:02.036751Z"
        },
        "trusted": true,
        "id": "b8wPzInguQPJ"
      },
      "execution_count": null,
      "outputs": []
    },
    {
      "cell_type": "code",
      "source": [
        "def calc_token_len(example):\n",
        "    return len(tokenizer(example).input_ids)"
      ],
      "metadata": {
        "id": "a75jy7E1igUi",
        "execution": {
          "iopub.status.busy": "2023-09-29T14:37:36.170735Z",
          "iopub.execute_input": "2023-09-29T14:37:36.171122Z",
          "iopub.status.idle": "2023-09-29T14:37:36.177550Z",
          "shell.execute_reply.started": "2023-09-29T14:37:36.171093Z",
          "shell.execute_reply": "2023-09-29T14:37:36.176570Z"
        },
        "trusted": true
      },
      "execution_count": null,
      "outputs": []
    },
    {
      "cell_type": "code",
      "source": [
        "from sklearn.model_selection import train_test_split\n",
        "train_df, test_df = train_test_split(df, test_size=0.10, shuffle=True)\n",
        "train_df.shape, test_df.shape"
      ],
      "metadata": {
        "id": "UyMhxBbjYN-u",
        "colab": {
          "base_uri": "https://localhost:8080/"
        },
        "outputId": "5f130448-656a-40c3-afd1-684bbfc321a9",
        "execution": {
          "iopub.status.busy": "2023-09-29T14:37:36.427196Z",
          "iopub.execute_input": "2023-09-29T14:37:36.427551Z",
          "iopub.status.idle": "2023-09-29T14:37:36.520826Z",
          "shell.execute_reply.started": "2023-09-29T14:37:36.427522Z",
          "shell.execute_reply": "2023-09-29T14:37:36.519618Z"
        },
        "trusted": true
      },
      "execution_count": null,
      "outputs": [
        {
          "output_type": "execute_result",
          "data": {
            "text/plain": [
              "((269999, 2), (30000, 2))"
            ]
          },
          "metadata": {},
          "execution_count": 21
        }
      ]
    },
    {
      "cell_type": "code",
      "source": [
        "test_df['input_token_len'] = test_df['input'].apply(calc_token_len)"
      ],
      "metadata": {
        "id": "uruzAQuujAeA",
        "execution": {
          "iopub.status.busy": "2023-09-29T14:37:36.722342Z",
          "iopub.execute_input": "2023-09-29T14:37:36.722685Z",
          "iopub.status.idle": "2023-09-29T14:37:43.392412Z",
          "shell.execute_reply.started": "2023-09-29T14:37:36.722657Z",
          "shell.execute_reply": "2023-09-29T14:37:43.390985Z"
        },
        "trusted": true,
        "colab": {
          "base_uri": "https://localhost:8080/"
        },
        "outputId": "9fc9682e-a3f5-4343-82af-5b6248d11dcb"
      },
      "execution_count": null,
      "outputs": [
        {
          "output_type": "stream",
          "name": "stderr",
          "text": [
            "Token indices sequence length is longer than the specified maximum sequence length for this model (1696 > 512). Running this sequence through the model will result in indexing errors\n"
          ]
        }
      ]
    },
    {
      "cell_type": "code",
      "source": [
        "test_df.head()"
      ],
      "metadata": {
        "colab": {
          "base_uri": "https://localhost:8080/",
          "height": 328
        },
        "id": "oNvjbMF3jWkW",
        "outputId": "a3f32118-67e6-42f8-8c52-93d13250ccc5",
        "execution": {
          "iopub.status.busy": "2023-09-29T14:37:43.397940Z",
          "iopub.execute_input": "2023-09-29T14:37:43.398339Z",
          "iopub.status.idle": "2023-09-29T14:37:43.415357Z",
          "shell.execute_reply.started": "2023-09-29T14:37:43.398299Z",
          "shell.execute_reply": "2023-09-29T14:37:43.411860Z"
        },
        "trusted": true
      },
      "execution_count": null,
      "outputs": [
        {
          "output_type": "execute_result",
          "data": {
            "text/plain": [
              "                                                                                                                                                                                                                                                                                                             input  \\\n",
              "4004941                                                                                                                                                                                                                  Alfred’s daughter, Susana, shot a video as her dad ran in to pull the woman from the car.   \n",
              "4051775                                                                                                                                                                                                                       Package - Water - gas - electricity - swimming pool and final umbrellas:  - 90 Euro.   \n",
              "4197579                                                                                                                                                                                                                                                                       On the Isle of Man itself of course!   \n",
              "4299321  I understand the cost is a one date charge of $ 977 Which is a little cheaper than that of the industry average ($ 1500 to $3000) However you must at the time of writing by a special discount and you only need pay $599) I consider this a decent price without being tried of the program first hand.   \n",
              "4083925                                                                                                                                                                                        She has traveled over 30 countries, know five languages and in her free time, create acrylic and watercolor paints.   \n",
              "\n",
              "                                                                                                                                                                                                                                                                                               target  \\\n",
              "4004941                                                                                                                                                                                                       Alfred’s daughter, Susana, shot video as her dad ran in to pull the woman from the car.   \n",
              "4051775                                                                                                                                                                                                                Package - Water, gas, electricity, swimming pool and final cleaning: 90 euros.   \n",
              "4197579                                                                                                                                                                                                                                                                 On the Isle of Man of course!   \n",
              "4299321  I understand the cost is a one time charge of $ 977 which is a little lower than the industry average ($ 1500 to $3000). However, at the time of writing there is a special discount and you only need pay $599. I consider this a decent price without having tried the program first hand.   \n",
              "4083925                                                                                                                                                                   She has traveled in over 30 countries, knows five languages and in her free time, creates acrylic and watercolor paintings.   \n",
              "\n",
              "         input_token_len  \n",
              "4004941               26  \n",
              "4051775               25  \n",
              "4197579               10  \n",
              "4299321               70  \n",
              "4083925               24  "
            ],
            "text/html": [
              "\n",
              "  <div id=\"df-f22f52b6-a01e-420d-b82e-c0783f44d65f\" class=\"colab-df-container\">\n",
              "    <div>\n",
              "<style scoped>\n",
              "    .dataframe tbody tr th:only-of-type {\n",
              "        vertical-align: middle;\n",
              "    }\n",
              "\n",
              "    .dataframe tbody tr th {\n",
              "        vertical-align: top;\n",
              "    }\n",
              "\n",
              "    .dataframe thead th {\n",
              "        text-align: right;\n",
              "    }\n",
              "</style>\n",
              "<table border=\"1\" class=\"dataframe\">\n",
              "  <thead>\n",
              "    <tr style=\"text-align: right;\">\n",
              "      <th></th>\n",
              "      <th>input</th>\n",
              "      <th>target</th>\n",
              "      <th>input_token_len</th>\n",
              "    </tr>\n",
              "  </thead>\n",
              "  <tbody>\n",
              "    <tr>\n",
              "      <th>4004941</th>\n",
              "      <td>Alfred’s daughter, Susana, shot a video as her dad ran in to pull the woman from the car.</td>\n",
              "      <td>Alfred’s daughter, Susana, shot video as her dad ran in to pull the woman from the car.</td>\n",
              "      <td>26</td>\n",
              "    </tr>\n",
              "    <tr>\n",
              "      <th>4051775</th>\n",
              "      <td>Package - Water - gas - electricity - swimming pool and final umbrellas:  - 90 Euro.</td>\n",
              "      <td>Package - Water, gas, electricity, swimming pool and final cleaning: 90 euros.</td>\n",
              "      <td>25</td>\n",
              "    </tr>\n",
              "    <tr>\n",
              "      <th>4197579</th>\n",
              "      <td>On the Isle of Man itself of course!</td>\n",
              "      <td>On the Isle of Man of course!</td>\n",
              "      <td>10</td>\n",
              "    </tr>\n",
              "    <tr>\n",
              "      <th>4299321</th>\n",
              "      <td>I understand the cost is a one date charge of $ 977 Which is a little cheaper than that of the industry average ($ 1500 to $3000) However you must at the time of writing by a special discount and you only need pay $599) I consider this a decent price without being tried of the program first hand.</td>\n",
              "      <td>I understand the cost is a one time charge of $ 977 which is a little lower than the industry average ($ 1500 to $3000). However, at the time of writing there is a special discount and you only need pay $599. I consider this a decent price without having tried the program first hand.</td>\n",
              "      <td>70</td>\n",
              "    </tr>\n",
              "    <tr>\n",
              "      <th>4083925</th>\n",
              "      <td>She has traveled over 30 countries, know five languages and in her free time, create acrylic and watercolor paints.</td>\n",
              "      <td>She has traveled in over 30 countries, knows five languages and in her free time, creates acrylic and watercolor paintings.</td>\n",
              "      <td>24</td>\n",
              "    </tr>\n",
              "  </tbody>\n",
              "</table>\n",
              "</div>\n",
              "    <div class=\"colab-df-buttons\">\n",
              "\n",
              "  <div class=\"colab-df-container\">\n",
              "    <button class=\"colab-df-convert\" onclick=\"convertToInteractive('df-f22f52b6-a01e-420d-b82e-c0783f44d65f')\"\n",
              "            title=\"Convert this dataframe to an interactive table.\"\n",
              "            style=\"display:none;\">\n",
              "\n",
              "  <svg xmlns=\"http://www.w3.org/2000/svg\" height=\"24px\" viewBox=\"0 -960 960 960\">\n",
              "    <path d=\"M120-120v-720h720v720H120Zm60-500h600v-160H180v160Zm220 220h160v-160H400v160Zm0 220h160v-160H400v160ZM180-400h160v-160H180v160Zm440 0h160v-160H620v160ZM180-180h160v-160H180v160Zm440 0h160v-160H620v160Z\"/>\n",
              "  </svg>\n",
              "    </button>\n",
              "\n",
              "  <style>\n",
              "    .colab-df-container {\n",
              "      display:flex;\n",
              "      gap: 12px;\n",
              "    }\n",
              "\n",
              "    .colab-df-convert {\n",
              "      background-color: #E8F0FE;\n",
              "      border: none;\n",
              "      border-radius: 50%;\n",
              "      cursor: pointer;\n",
              "      display: none;\n",
              "      fill: #1967D2;\n",
              "      height: 32px;\n",
              "      padding: 0 0 0 0;\n",
              "      width: 32px;\n",
              "    }\n",
              "\n",
              "    .colab-df-convert:hover {\n",
              "      background-color: #E2EBFA;\n",
              "      box-shadow: 0px 1px 2px rgba(60, 64, 67, 0.3), 0px 1px 3px 1px rgba(60, 64, 67, 0.15);\n",
              "      fill: #174EA6;\n",
              "    }\n",
              "\n",
              "    .colab-df-buttons div {\n",
              "      margin-bottom: 4px;\n",
              "    }\n",
              "\n",
              "    [theme=dark] .colab-df-convert {\n",
              "      background-color: #3B4455;\n",
              "      fill: #D2E3FC;\n",
              "    }\n",
              "\n",
              "    [theme=dark] .colab-df-convert:hover {\n",
              "      background-color: #434B5C;\n",
              "      box-shadow: 0px 1px 3px 1px rgba(0, 0, 0, 0.15);\n",
              "      filter: drop-shadow(0px 1px 2px rgba(0, 0, 0, 0.3));\n",
              "      fill: #FFFFFF;\n",
              "    }\n",
              "  </style>\n",
              "\n",
              "    <script>\n",
              "      const buttonEl =\n",
              "        document.querySelector('#df-f22f52b6-a01e-420d-b82e-c0783f44d65f button.colab-df-convert');\n",
              "      buttonEl.style.display =\n",
              "        google.colab.kernel.accessAllowed ? 'block' : 'none';\n",
              "\n",
              "      async function convertToInteractive(key) {\n",
              "        const element = document.querySelector('#df-f22f52b6-a01e-420d-b82e-c0783f44d65f');\n",
              "        const dataTable =\n",
              "          await google.colab.kernel.invokeFunction('convertToInteractive',\n",
              "                                                    [key], {});\n",
              "        if (!dataTable) return;\n",
              "\n",
              "        const docLinkHtml = 'Like what you see? Visit the ' +\n",
              "          '<a target=\"_blank\" href=https://colab.research.google.com/notebooks/data_table.ipynb>data table notebook</a>'\n",
              "          + ' to learn more about interactive tables.';\n",
              "        element.innerHTML = '';\n",
              "        dataTable['output_type'] = 'display_data';\n",
              "        await google.colab.output.renderOutput(dataTable, element);\n",
              "        const docLink = document.createElement('div');\n",
              "        docLink.innerHTML = docLinkHtml;\n",
              "        element.appendChild(docLink);\n",
              "      }\n",
              "    </script>\n",
              "  </div>\n",
              "\n",
              "\n",
              "<div id=\"df-6a1ee97d-8eb7-4b54-91b3-bd62f2fd025f\">\n",
              "  <button class=\"colab-df-quickchart\" onclick=\"quickchart('df-6a1ee97d-8eb7-4b54-91b3-bd62f2fd025f')\"\n",
              "            title=\"Suggest charts.\"\n",
              "            style=\"display:none;\">\n",
              "\n",
              "<svg xmlns=\"http://www.w3.org/2000/svg\" height=\"24px\"viewBox=\"0 0 24 24\"\n",
              "     width=\"24px\">\n",
              "    <g>\n",
              "        <path d=\"M19 3H5c-1.1 0-2 .9-2 2v14c0 1.1.9 2 2 2h14c1.1 0 2-.9 2-2V5c0-1.1-.9-2-2-2zM9 17H7v-7h2v7zm4 0h-2V7h2v10zm4 0h-2v-4h2v4z\"/>\n",
              "    </g>\n",
              "</svg>\n",
              "  </button>\n",
              "\n",
              "<style>\n",
              "  .colab-df-quickchart {\n",
              "      --bg-color: #E8F0FE;\n",
              "      --fill-color: #1967D2;\n",
              "      --hover-bg-color: #E2EBFA;\n",
              "      --hover-fill-color: #174EA6;\n",
              "      --disabled-fill-color: #AAA;\n",
              "      --disabled-bg-color: #DDD;\n",
              "  }\n",
              "\n",
              "  [theme=dark] .colab-df-quickchart {\n",
              "      --bg-color: #3B4455;\n",
              "      --fill-color: #D2E3FC;\n",
              "      --hover-bg-color: #434B5C;\n",
              "      --hover-fill-color: #FFFFFF;\n",
              "      --disabled-bg-color: #3B4455;\n",
              "      --disabled-fill-color: #666;\n",
              "  }\n",
              "\n",
              "  .colab-df-quickchart {\n",
              "    background-color: var(--bg-color);\n",
              "    border: none;\n",
              "    border-radius: 50%;\n",
              "    cursor: pointer;\n",
              "    display: none;\n",
              "    fill: var(--fill-color);\n",
              "    height: 32px;\n",
              "    padding: 0;\n",
              "    width: 32px;\n",
              "  }\n",
              "\n",
              "  .colab-df-quickchart:hover {\n",
              "    background-color: var(--hover-bg-color);\n",
              "    box-shadow: 0 1px 2px rgba(60, 64, 67, 0.3), 0 1px 3px 1px rgba(60, 64, 67, 0.15);\n",
              "    fill: var(--button-hover-fill-color);\n",
              "  }\n",
              "\n",
              "  .colab-df-quickchart-complete:disabled,\n",
              "  .colab-df-quickchart-complete:disabled:hover {\n",
              "    background-color: var(--disabled-bg-color);\n",
              "    fill: var(--disabled-fill-color);\n",
              "    box-shadow: none;\n",
              "  }\n",
              "\n",
              "  .colab-df-spinner {\n",
              "    border: 2px solid var(--fill-color);\n",
              "    border-color: transparent;\n",
              "    border-bottom-color: var(--fill-color);\n",
              "    animation:\n",
              "      spin 1s steps(1) infinite;\n",
              "  }\n",
              "\n",
              "  @keyframes spin {\n",
              "    0% {\n",
              "      border-color: transparent;\n",
              "      border-bottom-color: var(--fill-color);\n",
              "      border-left-color: var(--fill-color);\n",
              "    }\n",
              "    20% {\n",
              "      border-color: transparent;\n",
              "      border-left-color: var(--fill-color);\n",
              "      border-top-color: var(--fill-color);\n",
              "    }\n",
              "    30% {\n",
              "      border-color: transparent;\n",
              "      border-left-color: var(--fill-color);\n",
              "      border-top-color: var(--fill-color);\n",
              "      border-right-color: var(--fill-color);\n",
              "    }\n",
              "    40% {\n",
              "      border-color: transparent;\n",
              "      border-right-color: var(--fill-color);\n",
              "      border-top-color: var(--fill-color);\n",
              "    }\n",
              "    60% {\n",
              "      border-color: transparent;\n",
              "      border-right-color: var(--fill-color);\n",
              "    }\n",
              "    80% {\n",
              "      border-color: transparent;\n",
              "      border-right-color: var(--fill-color);\n",
              "      border-bottom-color: var(--fill-color);\n",
              "    }\n",
              "    90% {\n",
              "      border-color: transparent;\n",
              "      border-bottom-color: var(--fill-color);\n",
              "    }\n",
              "  }\n",
              "</style>\n",
              "\n",
              "  <script>\n",
              "    async function quickchart(key) {\n",
              "      const quickchartButtonEl =\n",
              "        document.querySelector('#' + key + ' button');\n",
              "      quickchartButtonEl.disabled = true;  // To prevent multiple clicks.\n",
              "      quickchartButtonEl.classList.add('colab-df-spinner');\n",
              "      try {\n",
              "        const charts = await google.colab.kernel.invokeFunction(\n",
              "            'suggestCharts', [key], {});\n",
              "      } catch (error) {\n",
              "        console.error('Error during call to suggestCharts:', error);\n",
              "      }\n",
              "      quickchartButtonEl.classList.remove('colab-df-spinner');\n",
              "      quickchartButtonEl.classList.add('colab-df-quickchart-complete');\n",
              "    }\n",
              "    (() => {\n",
              "      let quickchartButtonEl =\n",
              "        document.querySelector('#df-6a1ee97d-8eb7-4b54-91b3-bd62f2fd025f button');\n",
              "      quickchartButtonEl.style.display =\n",
              "        google.colab.kernel.accessAllowed ? 'block' : 'none';\n",
              "    })();\n",
              "  </script>\n",
              "</div>\n",
              "    </div>\n",
              "  </div>\n"
            ]
          },
          "metadata": {},
          "execution_count": 29
        }
      ]
    },
    {
      "cell_type": "code",
      "source": [
        "test_df['input_token_len'].describe()"
      ],
      "metadata": {
        "colab": {
          "base_uri": "https://localhost:8080/"
        },
        "id": "Qy3eyFHxjZWm",
        "outputId": "6ab9460a-161d-4c71-a42a-800ab4d21701",
        "execution": {
          "iopub.status.busy": "2023-09-29T14:37:43.417079Z",
          "iopub.execute_input": "2023-09-29T14:37:43.417742Z",
          "iopub.status.idle": "2023-09-29T14:37:43.435351Z",
          "shell.execute_reply.started": "2023-09-29T14:37:43.417707Z",
          "shell.execute_reply": "2023-09-29T14:37:43.434388Z"
        },
        "trusted": true
      },
      "execution_count": null,
      "outputs": [
        {
          "output_type": "execute_result",
          "data": {
            "text/plain": [
              "count    30000.000000\n",
              "mean        33.510033\n",
              "std         27.235026\n",
              "min          3.000000\n",
              "25%         17.000000\n",
              "50%         27.000000\n",
              "75%         42.000000\n",
              "max       1696.000000\n",
              "Name: input_token_len, dtype: float64"
            ]
          },
          "metadata": {},
          "execution_count": 30
        }
      ]
    },
    {
      "cell_type": "markdown",
      "source": [
        "### We will use a token length of 64 since it will cover the vast majority of examples"
      ],
      "metadata": {
        "id": "5hz7cdWnr_OO"
      }
    },
    {
      "cell_type": "code",
      "source": [
        "from datasets import Dataset\n",
        "train_dataset = Dataset.from_pandas(train_df)\n",
        "test_dataset = Dataset.from_pandas(test_df)"
      ],
      "metadata": {
        "id": "rSvsHw6HeHrl",
        "execution": {
          "iopub.status.busy": "2023-09-29T14:37:43.437619Z",
          "iopub.execute_input": "2023-09-29T14:37:43.438164Z",
          "iopub.status.idle": "2023-09-29T14:37:43.809819Z",
          "shell.execute_reply.started": "2023-09-29T14:37:43.438134Z",
          "shell.execute_reply": "2023-09-29T14:37:43.808858Z"
        },
        "trusted": true
      },
      "execution_count": null,
      "outputs": []
    },
    {
      "cell_type": "code",
      "source": [
        "test_dataset"
      ],
      "metadata": {
        "colab": {
          "base_uri": "https://localhost:8080/"
        },
        "id": "XfRhXHBGoiiU",
        "outputId": "2238086d-a2f1-48e2-8465-3df83fd86191",
        "execution": {
          "iopub.status.busy": "2023-09-29T14:37:43.811198Z",
          "iopub.execute_input": "2023-09-29T14:37:43.811806Z",
          "iopub.status.idle": "2023-09-29T14:37:43.824527Z",
          "shell.execute_reply.started": "2023-09-29T14:37:43.811744Z",
          "shell.execute_reply": "2023-09-29T14:37:43.823304Z"
        },
        "trusted": true
      },
      "execution_count": null,
      "outputs": [
        {
          "output_type": "execute_result",
          "data": {
            "text/plain": [
              "Dataset({\n",
              "    features: ['input', 'target', '__index_level_0__'],\n",
              "    num_rows: 30000\n",
              "})"
            ]
          },
          "metadata": {},
          "execution_count": 23
        }
      ]
    },
    {
      "cell_type": "markdown",
      "source": [
        "### Load the Dataset"
      ],
      "metadata": {
        "id": "onckS0qK4kTF"
      }
    },
    {
      "cell_type": "code",
      "source": [
        "from torch.utils.data import Dataset, DataLoader\n",
        "\n",
        "class GrammarDataset(Dataset):\n",
        "    def __init__(self, dataset, tokenizer,print_text=False):\n",
        "        self.dataset = dataset\n",
        "        self.pad_to_max_length = False\n",
        "        self.tokenizer = tokenizer\n",
        "        self.print_text = print_text\n",
        "        self.max_len = 64\n",
        "\n",
        "    def __len__(self):\n",
        "        return len(self.dataset)\n",
        "\n",
        "\n",
        "    def tokenize_data(self, example):\n",
        "        input_, target_ = example['input'], example['target'] # output\n",
        "\n",
        "        # tokenize inputs\n",
        "        tokenized_inputs = tokenizer(input_, pad_to_max_length=self.pad_to_max_length,\n",
        "                                            max_length=self.max_len,\n",
        "                                            return_attention_mask=True)\n",
        "\n",
        "        tokenized_targets = tokenizer(target_, pad_to_max_length=self.pad_to_max_length,\n",
        "                                            max_length=self.max_len,\n",
        "                                            return_attention_mask=True)\n",
        "\n",
        "        inputs={\"input_ids\": tokenized_inputs['input_ids'],\n",
        "            \"attention_mask\": tokenized_inputs['attention_mask'],\n",
        "            \"labels\": tokenized_targets['input_ids']\n",
        "        }\n",
        "\n",
        "        return inputs\n",
        "\n",
        "\n",
        "    def __getitem__(self, index):\n",
        "        inputs = self.tokenize_data(self.dataset[index])\n",
        "\n",
        "        if self.print_text:\n",
        "            for k in inputs.keys():\n",
        "                print(k, len(inputs[k]))\n",
        "\n",
        "        return inputs"
      ],
      "metadata": {
        "id": "hDjTyQH75OKH",
        "execution": {
          "iopub.status.busy": "2023-09-29T14:37:43.826226Z",
          "iopub.execute_input": "2023-09-29T14:37:43.827069Z",
          "iopub.status.idle": "2023-09-29T14:37:43.841699Z",
          "shell.execute_reply.started": "2023-09-29T14:37:43.827035Z",
          "shell.execute_reply": "2023-09-29T14:37:43.840399Z"
        },
        "trusted": true
      },
      "execution_count": null,
      "outputs": []
    },
    {
      "cell_type": "code",
      "source": [
        "dataset = GrammarDataset(train_dataset, tokenizer, True)\n",
        "# dataset = GrammarDataset(test_dataset, tokenizer, True)\n",
        "print(dataset[121])"
      ],
      "metadata": {
        "colab": {
          "base_uri": "https://localhost:8080/"
        },
        "id": "AlkkfaIS64lZ",
        "outputId": "9478bf03-b9d7-48d6-fd37-6501a30e1c6a",
        "execution": {
          "iopub.status.busy": "2023-09-29T14:37:43.843027Z",
          "iopub.execute_input": "2023-09-29T14:37:43.843683Z",
          "iopub.status.idle": "2023-09-29T14:37:43.866201Z",
          "shell.execute_reply.started": "2023-09-29T14:37:43.843653Z",
          "shell.execute_reply": "2023-09-29T14:37:43.865310Z"
        },
        "trusted": true
      },
      "execution_count": null,
      "outputs": [
        {
          "output_type": "stream",
          "name": "stderr",
          "text": [
            "Truncation was not explicitly activated but `max_length` is provided a specific value, please use `truncation=True` to explicitly truncate examples to max length. Defaulting to 'longest_first' truncation strategy. If you encode pairs of sequences (GLUE-style) with the tokenizer you can select this strategy more precisely by providing a specific strategy to `truncation`.\n"
          ]
        },
        {
          "output_type": "stream",
          "name": "stdout",
          "text": [
            "input_ids 63\n",
            "attention_mask 63\n",
            "labels 61\n",
            "{'input_ids': [1853, 350, 4386, 476, 3, 13011, 26479, 7454, 5, 10, 6393, 5627, 1620, 115, 6, 3, 15, 26, 5, 10, 2963, 9, 7459, 739, 5, 41, 31971, 29004, 61, 108, 6, 3, 115, 184, 210, 6, 898, 3, 635, 14156, 4271, 3, 89, 17, 5, 201, 3097, 635, 11372, 6, 2560, 3, 89, 17, 5, 61, 17189, 15, 10, 71, 6463, 5, 1], 'attention_mask': [1, 1, 1, 1, 1, 1, 1, 1, 1, 1, 1, 1, 1, 1, 1, 1, 1, 1, 1, 1, 1, 1, 1, 1, 1, 1, 1, 1, 1, 1, 1, 1, 1, 1, 1, 1, 1, 1, 1, 1, 1, 1, 1, 1, 1, 1, 1, 1, 1, 1, 1, 1, 1, 1, 1, 1, 1, 1, 1, 1, 1, 1, 1], 'labels': [37, 12630, 9840, 162, 5, 7454, 5, 10, 6393, 5627, 1620, 115, 6, 3, 15, 26, 5, 10, 2963, 9, 7459, 739, 5, 41, 31971, 29004, 61, 108, 6, 3, 115, 184, 210, 6, 898, 3, 635, 14156, 4271, 3, 89, 17, 5, 201, 3097, 635, 11372, 6, 2560, 3, 89, 17, 5, 137, 17189, 15, 10, 71, 6463, 5, 1]}\n"
          ]
        }
      ]
    },
    {
      "cell_type": "markdown",
      "source": [
        "### Define Evaluator"
      ],
      "metadata": {
        "id": "17tTZNRU9Nbd"
      }
    },
    {
      "cell_type": "code",
      "source": [
        "!pip install --q rouge_score"
      ],
      "metadata": {
        "id": "dAYzYHBR9Pj2",
        "execution": {
          "iopub.status.busy": "2023-09-29T14:37:43.867351Z",
          "iopub.execute_input": "2023-09-29T14:37:43.867999Z",
          "iopub.status.idle": "2023-09-29T14:37:53.698925Z",
          "shell.execute_reply.started": "2023-09-29T14:37:43.867953Z",
          "shell.execute_reply": "2023-09-29T14:37:53.697142Z"
        },
        "trusted": true,
        "colab": {
          "base_uri": "https://localhost:8080/"
        },
        "outputId": "59251c13-55d9-4613-c145-3a3e905c72ed"
      },
      "execution_count": null,
      "outputs": [
        {
          "output_type": "stream",
          "name": "stdout",
          "text": [
            "  Preparing metadata (setup.py) ... \u001b[?25l\u001b[?25hdone\n",
            "  Building wheel for rouge_score (setup.py) ... \u001b[?25l\u001b[?25hdone\n"
          ]
        }
      ]
    },
    {
      "cell_type": "code",
      "source": [
        "from datasets import load_metric\n",
        "rouge_metric = load_metric(\"rouge\")"
      ],
      "metadata": {
        "id": "ojPxcaxr9P_o",
        "execution": {
          "iopub.status.busy": "2023-09-29T14:37:53.707542Z",
          "iopub.execute_input": "2023-09-29T14:37:53.709146Z",
          "iopub.status.idle": "2023-09-29T14:37:54.884369Z",
          "shell.execute_reply.started": "2023-09-29T14:37:53.709097Z",
          "shell.execute_reply": "2023-09-29T14:37:54.883244Z"
        },
        "trusted": true,
        "colab": {
          "base_uri": "https://localhost:8080/"
        },
        "outputId": "1bfb3f21-a746-4ffd-cc50-5e98b670f37c"
      },
      "execution_count": null,
      "outputs": [
        {
          "output_type": "stream",
          "name": "stderr",
          "text": [
            "<ipython-input-26-76fa4d2ef6b0>:2: FutureWarning: load_metric is deprecated and will be removed in the next major version of datasets. Use 'evaluate.load' instead, from the new library 🤗 Evaluate: https://huggingface.co/docs/evaluate\n",
            "  rouge_metric = load_metric(\"rouge\")\n"
          ]
        }
      ]
    },
    {
      "cell_type": "markdown",
      "source": [
        "### Train Model"
      ],
      "metadata": {
        "id": "tlkEgSrq9lxJ"
      }
    },
    {
      "cell_type": "code",
      "source": [
        "!pip install -q accelerate -U\n",
        "!pip install -q transformers[torch] -U"
      ],
      "metadata": {
        "id": "Kkwqq77A4aQb",
        "execution": {
          "iopub.status.busy": "2023-09-29T12:24:12.100080Z",
          "iopub.execute_input": "2023-09-29T12:24:12.100913Z",
          "iopub.status.idle": "2023-09-29T12:24:29.692112Z",
          "shell.execute_reply.started": "2023-09-29T12:24:12.100879Z",
          "shell.execute_reply": "2023-09-29T12:24:29.690817Z"
        },
        "trusted": true,
        "colab": {
          "base_uri": "https://localhost:8080/"
        },
        "outputId": "13a96353-6809-478d-a332-546f6f91acf6"
      },
      "execution_count": null,
      "outputs": [
        {
          "output_type": "stream",
          "name": "stdout",
          "text": [
            "\u001b[?25l     \u001b[90m━━━━━━━━━━━━━━━━━━━━━━━━━━━━━━━━━━━━━━━━\u001b[0m \u001b[32m0.0/258.1 kB\u001b[0m \u001b[31m?\u001b[0m eta \u001b[36m-:--:--\u001b[0m\r\u001b[2K     \u001b[91m━━━━\u001b[0m\u001b[91m╸\u001b[0m\u001b[90m━━━━━━━━━━━━━━━━━━━━━━━━━━━━━━━━━━━\u001b[0m \u001b[32m30.7/258.1 kB\u001b[0m \u001b[31m1.5 MB/s\u001b[0m eta \u001b[36m0:00:01\u001b[0m\r\u001b[2K     \u001b[91m━━━━━━━━━━━━━━━━━━━━━━━━━━━━━━━━━━━━━━\u001b[0m\u001b[91m╸\u001b[0m \u001b[32m256.0/258.1 kB\u001b[0m \u001b[31m4.7 MB/s\u001b[0m eta \u001b[36m0:00:01\u001b[0m\r\u001b[2K     \u001b[90m━━━━━━━━━━━━━━━━━━━━━━━━━━━━━━━━━━━━━━━\u001b[0m \u001b[32m258.1/258.1 kB\u001b[0m \u001b[31m4.2 MB/s\u001b[0m eta \u001b[36m0:00:00\u001b[0m\n",
            "\u001b[?25h"
          ]
        }
      ]
    },
    {
      "cell_type": "code",
      "source": [
        "!pip install -q datasets transformers==4.28.0"
      ],
      "metadata": {
        "id": "n5rx0oRN5QX2",
        "execution": {
          "iopub.status.busy": "2023-09-29T12:24:29.693935Z",
          "iopub.execute_input": "2023-09-29T12:24:29.695050Z",
          "iopub.status.idle": "2023-09-29T12:24:45.464626Z",
          "shell.execute_reply.started": "2023-09-29T12:24:29.695011Z",
          "shell.execute_reply": "2023-09-29T12:24:45.463180Z"
        },
        "trusted": true,
        "colab": {
          "base_uri": "https://localhost:8080/"
        },
        "outputId": "a323b497-6289-4193-85b2-05c7ae2df1af"
      },
      "execution_count": null,
      "outputs": [
        {
          "output_type": "stream",
          "name": "stdout",
          "text": [
            "\u001b[2K     \u001b[90m━━━━━━━━━━━━━━━━━━━━━━━━━━━━━━━━━━━━━━━━\u001b[0m \u001b[32m7.0/7.0 MB\u001b[0m \u001b[31m46.0 MB/s\u001b[0m eta \u001b[36m0:00:00\u001b[0m\n",
            "\u001b[2K     \u001b[90m━━━━━━━━━━━━━━━━━━━━━━━━━━━━━━━━━━━━━━━━\u001b[0m \u001b[32m7.8/7.8 MB\u001b[0m \u001b[31m74.5 MB/s\u001b[0m eta \u001b[36m0:00:00\u001b[0m\n",
            "\u001b[?25h"
          ]
        }
      ]
    },
    {
      "cell_type": "code",
      "source": [
        "data_collator = DataCollatorForSeq2Seq(tokenizer, model=model, padding='longest', return_tensors='pt')"
      ],
      "metadata": {
        "id": "5x4_f3P79oCK",
        "execution": {
          "iopub.status.busy": "2023-09-29T14:37:54.889207Z",
          "iopub.execute_input": "2023-09-29T14:37:54.890233Z",
          "iopub.status.idle": "2023-09-29T14:37:54.896245Z",
          "shell.execute_reply.started": "2023-09-29T14:37:54.890201Z",
          "shell.execute_reply": "2023-09-29T14:37:54.895264Z"
        },
        "trusted": true
      },
      "execution_count": null,
      "outputs": []
    },
    {
      "cell_type": "code",
      "source": [
        "# defining training related arguments\n",
        "batch_size = 16\n",
        "args = Seq2SeqTrainingArguments(\n",
        "                        output_dir=\"/content/drive/MyDrive/c4_200m/weights\",\n",
        "                        evaluation_strategy=\"steps\",\n",
        "                        per_device_train_batch_size=batch_size,\n",
        "                        per_device_eval_batch_size=batch_size,\n",
        "                        learning_rate=2e-5,\n",
        "                        num_train_epochs=1,\n",
        "                        weight_decay=0.01,\n",
        "                        save_total_limit=2,\n",
        "                        predict_with_generate=True,\n",
        "                        fp16 = True, # only while using CUDA\n",
        "                        gradient_accumulation_steps = 6,\n",
        "                        eval_steps = 500,\n",
        "                        save_steps = 500,\n",
        "                        load_best_model_at_end=True,\n",
        "                        logging_dir=\"/logs\",\n",
        "                        report_to=\"wandb\", # report  to wandb\n",
        "    )"
      ],
      "metadata": {
        "id": "rc-YLKSK9pkA",
        "execution": {
          "iopub.status.busy": "2023-09-29T14:37:54.897774Z",
          "iopub.execute_input": "2023-09-29T14:37:54.898377Z",
          "iopub.status.idle": "2023-09-29T14:37:54.909598Z",
          "shell.execute_reply.started": "2023-09-29T14:37:54.898344Z",
          "shell.execute_reply": "2023-09-29T14:37:54.908568Z"
        },
        "trusted": true
      },
      "execution_count": null,
      "outputs": []
    },
    {
      "cell_type": "code",
      "source": [
        "import nltk\n",
        "nltk.download('punkt')\n",
        "import numpy as np\n",
        "\n",
        "def compute_metrics(eval_pred):\n",
        "    predictions, labels = eval_pred\n",
        "    decoded_preds = tokenizer.batch_decode(predictions, skip_special_tokens=True)\n",
        "    # Replace -100 in the labels as we can't decode them.\n",
        "    labels = np.where(labels != -100, labels, tokenizer.pad_token_id)\n",
        "    decoded_labels = tokenizer.batch_decode(labels, skip_special_tokens=True)\n",
        "\n",
        "    # Rouge expects a newline after each sentence\n",
        "    decoded_preds = [\"\\n\".join(nltk.sent_tokenize(pred.strip())) for pred in decoded_preds]\n",
        "    decoded_labels = [\"\\n\".join(nltk.sent_tokenize(label.strip())) for label in decoded_labels]\n",
        "\n",
        "    result = rouge_metric.compute(predictions=decoded_preds, references=decoded_labels, use_stemmer=True)\n",
        "    # Extract a few results\n",
        "    result = {key: value.mid.fmeasure * 100 for key, value in result.items()}\n",
        "\n",
        "    # Add mean generated length\n",
        "    prediction_lens = [np.count_nonzero(pred != tokenizer.pad_token_id) for pred in predictions]\n",
        "    result[\"gen_len\"] = np.mean(prediction_lens)\n",
        "    return {k: round(v, 4) for k, v in result.items()}"
      ],
      "metadata": {
        "colab": {
          "base_uri": "https://localhost:8080/"
        },
        "id": "YutXc8Q1-DG2",
        "outputId": "82fe802d-0cde-4dcc-82fc-ddcf97568f36",
        "execution": {
          "iopub.status.busy": "2023-09-29T14:37:54.912171Z",
          "iopub.execute_input": "2023-09-29T14:37:54.912568Z",
          "iopub.status.idle": "2023-09-29T14:37:55.032260Z",
          "shell.execute_reply.started": "2023-09-29T14:37:54.912536Z",
          "shell.execute_reply": "2023-09-29T14:37:55.031223Z"
        },
        "trusted": true
      },
      "execution_count": null,
      "outputs": [
        {
          "output_type": "stream",
          "name": "stderr",
          "text": [
            "[nltk_data] Downloading package punkt to /root/nltk_data...\n",
            "[nltk_data]   Package punkt is already up-to-date!\n"
          ]
        }
      ]
    },
    {
      "cell_type": "code",
      "source": [
        "# defining trainer using 🤗\n",
        "trainer = Seq2SeqTrainer(\n",
        "                model=model,\n",
        "                args=args,\n",
        "                train_dataset= GrammarDataset(train_dataset, tokenizer),\n",
        "                eval_dataset=GrammarDataset(test_dataset, tokenizer),\n",
        "                tokenizer=tokenizer,\n",
        "                data_collator=data_collator,\n",
        "                compute_metrics=compute_metrics)"
      ],
      "metadata": {
        "id": "fyOdMJQW-FFJ",
        "execution": {
          "iopub.status.busy": "2023-09-29T14:37:55.036423Z",
          "iopub.execute_input": "2023-09-29T14:37:55.038879Z",
          "iopub.status.idle": "2023-09-29T14:37:55.061716Z",
          "shell.execute_reply.started": "2023-09-29T14:37:55.038844Z",
          "shell.execute_reply": "2023-09-29T14:37:55.060710Z"
        },
        "trusted": true
      },
      "execution_count": null,
      "outputs": []
    },
    {
      "cell_type": "code",
      "source": [
        "trainer.train()"
      ],
      "metadata": {
        "colab": {
          "base_uri": "https://localhost:8080/",
          "height": 649
        },
        "id": "VvTVJutEBT-6",
        "outputId": "3da95357-2e1b-41d1-c7fb-6bf1bac43b7c"
      },
      "execution_count": null,
      "outputs": [
        {
          "output_type": "stream",
          "name": "stderr",
          "text": [
            "/usr/local/lib/python3.10/dist-packages/transformers/optimization.py:391: FutureWarning: This implementation of AdamW is deprecated and will be removed in a future version. Use the PyTorch implementation torch.optim.AdamW instead, or set `no_deprecation_warning=True` to disable this warning\n",
            "  warnings.warn(\n"
          ]
        },
        {
          "output_type": "display_data",
          "data": {
            "text/plain": [
              "<IPython.core.display.Javascript object>"
            ],
            "application/javascript": [
              "\n",
              "        window._wandbApiKey = new Promise((resolve, reject) => {\n",
              "            function loadScript(url) {\n",
              "            return new Promise(function(resolve, reject) {\n",
              "                let newScript = document.createElement(\"script\");\n",
              "                newScript.onerror = reject;\n",
              "                newScript.onload = resolve;\n",
              "                document.body.appendChild(newScript);\n",
              "                newScript.src = url;\n",
              "            });\n",
              "            }\n",
              "            loadScript(\"https://cdn.jsdelivr.net/npm/postmate/build/postmate.min.js\").then(() => {\n",
              "            const iframe = document.createElement('iframe')\n",
              "            iframe.style.cssText = \"width:0;height:0;border:none\"\n",
              "            document.body.appendChild(iframe)\n",
              "            const handshake = new Postmate({\n",
              "                container: iframe,\n",
              "                url: 'https://wandb.ai/authorize'\n",
              "            });\n",
              "            const timeout = setTimeout(() => reject(\"Couldn't auto authenticate\"), 5000)\n",
              "            handshake.then(function(child) {\n",
              "                child.on('authorize', data => {\n",
              "                    clearTimeout(timeout)\n",
              "                    resolve(data)\n",
              "                });\n",
              "            });\n",
              "            })\n",
              "        });\n",
              "    "
            ]
          },
          "metadata": {}
        },
        {
          "output_type": "stream",
          "name": "stderr",
          "text": [
            "\u001b[34m\u001b[1mwandb\u001b[0m: Logging into wandb.ai. (Learn how to deploy a W&B server locally: https://wandb.me/wandb-server)\n",
            "\u001b[34m\u001b[1mwandb\u001b[0m: You can find your API key in your browser here: https://wandb.ai/authorize\n",
            "wandb: Paste an API key from your profile and hit enter, or press ctrl+c to quit:"
          ]
        },
        {
          "name": "stdout",
          "output_type": "stream",
          "text": [
            " ··········\n"
          ]
        },
        {
          "output_type": "stream",
          "name": "stderr",
          "text": [
            "\u001b[34m\u001b[1mwandb\u001b[0m: Appending key for api.wandb.ai to your netrc file: /root/.netrc\n"
          ]
        },
        {
          "output_type": "display_data",
          "data": {
            "text/plain": [
              "<IPython.core.display.HTML object>"
            ],
            "text/html": [
              "Tracking run with wandb version 0.15.12"
            ]
          },
          "metadata": {}
        },
        {
          "output_type": "display_data",
          "data": {
            "text/plain": [
              "<IPython.core.display.HTML object>"
            ],
            "text/html": [
              "Run data is saved locally in <code>/content/wandb/run-20231009_160418-7ypu9jlc</code>"
            ]
          },
          "metadata": {}
        },
        {
          "output_type": "display_data",
          "data": {
            "text/plain": [
              "<IPython.core.display.HTML object>"
            ],
            "text/html": [
              "Syncing run <strong><a href='https://wandb.ai/thenhung/huggingface/runs/7ypu9jlc' target=\"_blank\">proud-hill-12</a></strong> to <a href='https://wandb.ai/thenhung/huggingface' target=\"_blank\">Weights & Biases</a> (<a href='https://wandb.me/run' target=\"_blank\">docs</a>)<br/>"
            ]
          },
          "metadata": {}
        },
        {
          "output_type": "display_data",
          "data": {
            "text/plain": [
              "<IPython.core.display.HTML object>"
            ],
            "text/html": [
              " View project at <a href='https://wandb.ai/thenhung/huggingface' target=\"_blank\">https://wandb.ai/thenhung/huggingface</a>"
            ]
          },
          "metadata": {}
        },
        {
          "output_type": "display_data",
          "data": {
            "text/plain": [
              "<IPython.core.display.HTML object>"
            ],
            "text/html": [
              " View run at <a href='https://wandb.ai/thenhung/huggingface/runs/7ypu9jlc' target=\"_blank\">https://wandb.ai/thenhung/huggingface/runs/7ypu9jlc</a>"
            ]
          },
          "metadata": {}
        },
        {
          "output_type": "display_data",
          "data": {
            "text/plain": [
              "<IPython.core.display.HTML object>"
            ],
            "text/html": [
              "\n",
              "    <div>\n",
              "      \n",
              "      <progress value='501' max='2812' style='width:300px; height:20px; vertical-align: middle;'></progress>\n",
              "      [ 501/2812 09:55 < 45:57, 0.84 it/s, Epoch 0.18/1]\n",
              "    </div>\n",
              "    <table border=\"1\" class=\"dataframe\">\n",
              "  <thead>\n",
              " <tr style=\"text-align: left;\">\n",
              "      <th>Step</th>\n",
              "      <th>Training Loss</th>\n",
              "      <th>Validation Loss</th>\n",
              "    </tr>\n",
              "  </thead>\n",
              "  <tbody>\n",
              "  </tbody>\n",
              "</table><p>\n",
              "    <div>\n",
              "      \n",
              "      <progress value='1875' max='1875' style='width:300px; height:20px; vertical-align: middle;'></progress>\n",
              "      [1875/1875 15:16]\n",
              "    </div>\n",
              "    "
            ]
          },
          "metadata": {}
        },
        {
          "output_type": "error",
          "ename": "KeyboardInterrupt",
          "evalue": "ignored",
          "traceback": [
            "\u001b[0;31m---------------------------------------------------------------------------\u001b[0m",
            "\u001b[0;31mKeyboardInterrupt\u001b[0m                         Traceback (most recent call last)",
            "\u001b[0;32m<ipython-input-31-3435b262f1ae>\u001b[0m in \u001b[0;36m<cell line: 1>\u001b[0;34m()\u001b[0m\n\u001b[0;32m----> 1\u001b[0;31m \u001b[0mtrainer\u001b[0m\u001b[0;34m.\u001b[0m\u001b[0mtrain\u001b[0m\u001b[0;34m(\u001b[0m\u001b[0;34m)\u001b[0m\u001b[0;34m\u001b[0m\u001b[0;34m\u001b[0m\u001b[0m\n\u001b[0m",
            "\u001b[0;32m/usr/local/lib/python3.10/dist-packages/transformers/trainer.py\u001b[0m in \u001b[0;36mtrain\u001b[0;34m(self, resume_from_checkpoint, trial, ignore_keys_for_eval, **kwargs)\u001b[0m\n\u001b[1;32m   1660\u001b[0m             \u001b[0mself\u001b[0m\u001b[0;34m.\u001b[0m\u001b[0m_inner_training_loop\u001b[0m\u001b[0;34m,\u001b[0m \u001b[0mself\u001b[0m\u001b[0;34m.\u001b[0m\u001b[0m_train_batch_size\u001b[0m\u001b[0;34m,\u001b[0m \u001b[0margs\u001b[0m\u001b[0;34m.\u001b[0m\u001b[0mauto_find_batch_size\u001b[0m\u001b[0;34m\u001b[0m\u001b[0;34m\u001b[0m\u001b[0m\n\u001b[1;32m   1661\u001b[0m         )\n\u001b[0;32m-> 1662\u001b[0;31m         return inner_training_loop(\n\u001b[0m\u001b[1;32m   1663\u001b[0m             \u001b[0margs\u001b[0m\u001b[0;34m=\u001b[0m\u001b[0margs\u001b[0m\u001b[0;34m,\u001b[0m\u001b[0;34m\u001b[0m\u001b[0;34m\u001b[0m\u001b[0m\n\u001b[1;32m   1664\u001b[0m             \u001b[0mresume_from_checkpoint\u001b[0m\u001b[0;34m=\u001b[0m\u001b[0mresume_from_checkpoint\u001b[0m\u001b[0;34m,\u001b[0m\u001b[0;34m\u001b[0m\u001b[0;34m\u001b[0m\u001b[0m\n",
            "\u001b[0;32m/usr/local/lib/python3.10/dist-packages/transformers/trainer.py\u001b[0m in \u001b[0;36m_inner_training_loop\u001b[0;34m(self, batch_size, args, resume_from_checkpoint, trial, ignore_keys_for_eval)\u001b[0m\n\u001b[1;32m   2004\u001b[0m                     \u001b[0mself\u001b[0m\u001b[0;34m.\u001b[0m\u001b[0mcontrol\u001b[0m \u001b[0;34m=\u001b[0m \u001b[0mself\u001b[0m\u001b[0;34m.\u001b[0m\u001b[0mcallback_handler\u001b[0m\u001b[0;34m.\u001b[0m\u001b[0mon_step_end\u001b[0m\u001b[0;34m(\u001b[0m\u001b[0margs\u001b[0m\u001b[0;34m,\u001b[0m \u001b[0mself\u001b[0m\u001b[0;34m.\u001b[0m\u001b[0mstate\u001b[0m\u001b[0;34m,\u001b[0m \u001b[0mself\u001b[0m\u001b[0;34m.\u001b[0m\u001b[0mcontrol\u001b[0m\u001b[0;34m)\u001b[0m\u001b[0;34m\u001b[0m\u001b[0;34m\u001b[0m\u001b[0m\n\u001b[1;32m   2005\u001b[0m \u001b[0;34m\u001b[0m\u001b[0m\n\u001b[0;32m-> 2006\u001b[0;31m                     \u001b[0mself\u001b[0m\u001b[0;34m.\u001b[0m\u001b[0m_maybe_log_save_evaluate\u001b[0m\u001b[0;34m(\u001b[0m\u001b[0mtr_loss\u001b[0m\u001b[0;34m,\u001b[0m \u001b[0mmodel\u001b[0m\u001b[0;34m,\u001b[0m \u001b[0mtrial\u001b[0m\u001b[0;34m,\u001b[0m \u001b[0mepoch\u001b[0m\u001b[0;34m,\u001b[0m \u001b[0mignore_keys_for_eval\u001b[0m\u001b[0;34m)\u001b[0m\u001b[0;34m\u001b[0m\u001b[0;34m\u001b[0m\u001b[0m\n\u001b[0m\u001b[1;32m   2007\u001b[0m                 \u001b[0;32melse\u001b[0m\u001b[0;34m:\u001b[0m\u001b[0;34m\u001b[0m\u001b[0;34m\u001b[0m\u001b[0m\n\u001b[1;32m   2008\u001b[0m                     \u001b[0mself\u001b[0m\u001b[0;34m.\u001b[0m\u001b[0mcontrol\u001b[0m \u001b[0;34m=\u001b[0m \u001b[0mself\u001b[0m\u001b[0;34m.\u001b[0m\u001b[0mcallback_handler\u001b[0m\u001b[0;34m.\u001b[0m\u001b[0mon_substep_end\u001b[0m\u001b[0;34m(\u001b[0m\u001b[0margs\u001b[0m\u001b[0;34m,\u001b[0m \u001b[0mself\u001b[0m\u001b[0;34m.\u001b[0m\u001b[0mstate\u001b[0m\u001b[0;34m,\u001b[0m \u001b[0mself\u001b[0m\u001b[0;34m.\u001b[0m\u001b[0mcontrol\u001b[0m\u001b[0;34m)\u001b[0m\u001b[0;34m\u001b[0m\u001b[0;34m\u001b[0m\u001b[0m\n",
            "\u001b[0;32m/usr/local/lib/python3.10/dist-packages/transformers/trainer.py\u001b[0m in \u001b[0;36m_maybe_log_save_evaluate\u001b[0;34m(self, tr_loss, model, trial, epoch, ignore_keys_for_eval)\u001b[0m\n\u001b[1;32m   2285\u001b[0m                     \u001b[0mmetrics\u001b[0m\u001b[0;34m.\u001b[0m\u001b[0mupdate\u001b[0m\u001b[0;34m(\u001b[0m\u001b[0mdataset_metrics\u001b[0m\u001b[0;34m)\u001b[0m\u001b[0;34m\u001b[0m\u001b[0;34m\u001b[0m\u001b[0m\n\u001b[1;32m   2286\u001b[0m             \u001b[0;32melse\u001b[0m\u001b[0;34m:\u001b[0m\u001b[0;34m\u001b[0m\u001b[0;34m\u001b[0m\u001b[0m\n\u001b[0;32m-> 2287\u001b[0;31m                 \u001b[0mmetrics\u001b[0m \u001b[0;34m=\u001b[0m \u001b[0mself\u001b[0m\u001b[0;34m.\u001b[0m\u001b[0mevaluate\u001b[0m\u001b[0;34m(\u001b[0m\u001b[0mignore_keys\u001b[0m\u001b[0;34m=\u001b[0m\u001b[0mignore_keys_for_eval\u001b[0m\u001b[0;34m)\u001b[0m\u001b[0;34m\u001b[0m\u001b[0;34m\u001b[0m\u001b[0m\n\u001b[0m\u001b[1;32m   2288\u001b[0m             \u001b[0mself\u001b[0m\u001b[0;34m.\u001b[0m\u001b[0m_report_to_hp_search\u001b[0m\u001b[0;34m(\u001b[0m\u001b[0mtrial\u001b[0m\u001b[0;34m,\u001b[0m \u001b[0mself\u001b[0m\u001b[0;34m.\u001b[0m\u001b[0mstate\u001b[0m\u001b[0;34m.\u001b[0m\u001b[0mglobal_step\u001b[0m\u001b[0;34m,\u001b[0m \u001b[0mmetrics\u001b[0m\u001b[0;34m)\u001b[0m\u001b[0;34m\u001b[0m\u001b[0;34m\u001b[0m\u001b[0m\n\u001b[1;32m   2289\u001b[0m \u001b[0;34m\u001b[0m\u001b[0m\n",
            "\u001b[0;32m/usr/local/lib/python3.10/dist-packages/transformers/trainer_seq2seq.py\u001b[0m in \u001b[0;36mevaluate\u001b[0;34m(self, eval_dataset, ignore_keys, metric_key_prefix, **gen_kwargs)\u001b[0m\n\u001b[1;32m    157\u001b[0m         \u001b[0mself\u001b[0m\u001b[0;34m.\u001b[0m\u001b[0m_gen_kwargs\u001b[0m \u001b[0;34m=\u001b[0m \u001b[0mgen_kwargs\u001b[0m\u001b[0;34m\u001b[0m\u001b[0;34m\u001b[0m\u001b[0m\n\u001b[1;32m    158\u001b[0m \u001b[0;34m\u001b[0m\u001b[0m\n\u001b[0;32m--> 159\u001b[0;31m         \u001b[0;32mreturn\u001b[0m \u001b[0msuper\u001b[0m\u001b[0;34m(\u001b[0m\u001b[0;34m)\u001b[0m\u001b[0;34m.\u001b[0m\u001b[0mevaluate\u001b[0m\u001b[0;34m(\u001b[0m\u001b[0meval_dataset\u001b[0m\u001b[0;34m,\u001b[0m \u001b[0mignore_keys\u001b[0m\u001b[0;34m=\u001b[0m\u001b[0mignore_keys\u001b[0m\u001b[0;34m,\u001b[0m \u001b[0mmetric_key_prefix\u001b[0m\u001b[0;34m=\u001b[0m\u001b[0mmetric_key_prefix\u001b[0m\u001b[0;34m)\u001b[0m\u001b[0;34m\u001b[0m\u001b[0;34m\u001b[0m\u001b[0m\n\u001b[0m\u001b[1;32m    160\u001b[0m \u001b[0;34m\u001b[0m\u001b[0m\n\u001b[1;32m    161\u001b[0m     def predict(\n",
            "\u001b[0;32m/usr/local/lib/python3.10/dist-packages/transformers/trainer.py\u001b[0m in \u001b[0;36mevaluate\u001b[0;34m(self, eval_dataset, ignore_keys, metric_key_prefix)\u001b[0m\n\u001b[1;32m   2991\u001b[0m \u001b[0;34m\u001b[0m\u001b[0m\n\u001b[1;32m   2992\u001b[0m         \u001b[0meval_loop\u001b[0m \u001b[0;34m=\u001b[0m \u001b[0mself\u001b[0m\u001b[0;34m.\u001b[0m\u001b[0mprediction_loop\u001b[0m \u001b[0;32mif\u001b[0m \u001b[0mself\u001b[0m\u001b[0;34m.\u001b[0m\u001b[0margs\u001b[0m\u001b[0;34m.\u001b[0m\u001b[0muse_legacy_prediction_loop\u001b[0m \u001b[0;32melse\u001b[0m \u001b[0mself\u001b[0m\u001b[0;34m.\u001b[0m\u001b[0mevaluation_loop\u001b[0m\u001b[0;34m\u001b[0m\u001b[0;34m\u001b[0m\u001b[0m\n\u001b[0;32m-> 2993\u001b[0;31m         output = eval_loop(\n\u001b[0m\u001b[1;32m   2994\u001b[0m             \u001b[0meval_dataloader\u001b[0m\u001b[0;34m,\u001b[0m\u001b[0;34m\u001b[0m\u001b[0;34m\u001b[0m\u001b[0m\n\u001b[1;32m   2995\u001b[0m             \u001b[0mdescription\u001b[0m\u001b[0;34m=\u001b[0m\u001b[0;34m\"Evaluation\"\u001b[0m\u001b[0;34m,\u001b[0m\u001b[0;34m\u001b[0m\u001b[0;34m\u001b[0m\u001b[0m\n",
            "\u001b[0;32m/usr/local/lib/python3.10/dist-packages/transformers/trainer.py\u001b[0m in \u001b[0;36mevaluation_loop\u001b[0;34m(self, dataloader, description, prediction_loss_only, ignore_keys, metric_key_prefix)\u001b[0m\n\u001b[1;32m   3279\u001b[0m                 )\n\u001b[1;32m   3280\u001b[0m             \u001b[0;32melse\u001b[0m\u001b[0;34m:\u001b[0m\u001b[0;34m\u001b[0m\u001b[0;34m\u001b[0m\u001b[0m\n\u001b[0;32m-> 3281\u001b[0;31m                 \u001b[0mmetrics\u001b[0m \u001b[0;34m=\u001b[0m \u001b[0mself\u001b[0m\u001b[0;34m.\u001b[0m\u001b[0mcompute_metrics\u001b[0m\u001b[0;34m(\u001b[0m\u001b[0mEvalPrediction\u001b[0m\u001b[0;34m(\u001b[0m\u001b[0mpredictions\u001b[0m\u001b[0;34m=\u001b[0m\u001b[0mall_preds\u001b[0m\u001b[0;34m,\u001b[0m \u001b[0mlabel_ids\u001b[0m\u001b[0;34m=\u001b[0m\u001b[0mall_labels\u001b[0m\u001b[0;34m)\u001b[0m\u001b[0;34m)\u001b[0m\u001b[0;34m\u001b[0m\u001b[0;34m\u001b[0m\u001b[0m\n\u001b[0m\u001b[1;32m   3282\u001b[0m         \u001b[0;32melse\u001b[0m\u001b[0;34m:\u001b[0m\u001b[0;34m\u001b[0m\u001b[0;34m\u001b[0m\u001b[0m\n\u001b[1;32m   3283\u001b[0m             \u001b[0mmetrics\u001b[0m \u001b[0;34m=\u001b[0m \u001b[0;34m{\u001b[0m\u001b[0;34m}\u001b[0m\u001b[0;34m\u001b[0m\u001b[0;34m\u001b[0m\u001b[0m\n",
            "\u001b[0;32m<ipython-input-29-d75a063acd39>\u001b[0m in \u001b[0;36mcompute_metrics\u001b[0;34m(eval_pred)\u001b[0m\n\u001b[1;32m      5\u001b[0m \u001b[0;32mdef\u001b[0m \u001b[0mcompute_metrics\u001b[0m\u001b[0;34m(\u001b[0m\u001b[0meval_pred\u001b[0m\u001b[0;34m)\u001b[0m\u001b[0;34m:\u001b[0m\u001b[0;34m\u001b[0m\u001b[0;34m\u001b[0m\u001b[0m\n\u001b[1;32m      6\u001b[0m     \u001b[0mpredictions\u001b[0m\u001b[0;34m,\u001b[0m \u001b[0mlabels\u001b[0m \u001b[0;34m=\u001b[0m \u001b[0meval_pred\u001b[0m\u001b[0;34m\u001b[0m\u001b[0;34m\u001b[0m\u001b[0m\n\u001b[0;32m----> 7\u001b[0;31m     \u001b[0mdecoded_preds\u001b[0m \u001b[0;34m=\u001b[0m \u001b[0mtokenizer\u001b[0m\u001b[0;34m.\u001b[0m\u001b[0mbatch_decode\u001b[0m\u001b[0;34m(\u001b[0m\u001b[0mpredictions\u001b[0m\u001b[0;34m,\u001b[0m \u001b[0mskip_special_tokens\u001b[0m\u001b[0;34m=\u001b[0m\u001b[0;32mTrue\u001b[0m\u001b[0;34m)\u001b[0m\u001b[0;34m\u001b[0m\u001b[0;34m\u001b[0m\u001b[0m\n\u001b[0m\u001b[1;32m      8\u001b[0m     \u001b[0;31m# Replace -100 in the labels as we can't decode them.\u001b[0m\u001b[0;34m\u001b[0m\u001b[0;34m\u001b[0m\u001b[0m\n\u001b[1;32m      9\u001b[0m     \u001b[0mlabels\u001b[0m \u001b[0;34m=\u001b[0m \u001b[0mnp\u001b[0m\u001b[0;34m.\u001b[0m\u001b[0mwhere\u001b[0m\u001b[0;34m(\u001b[0m\u001b[0mlabels\u001b[0m \u001b[0;34m!=\u001b[0m \u001b[0;34m-\u001b[0m\u001b[0;36m100\u001b[0m\u001b[0;34m,\u001b[0m \u001b[0mlabels\u001b[0m\u001b[0;34m,\u001b[0m \u001b[0mtokenizer\u001b[0m\u001b[0;34m.\u001b[0m\u001b[0mpad_token_id\u001b[0m\u001b[0;34m)\u001b[0m\u001b[0;34m\u001b[0m\u001b[0;34m\u001b[0m\u001b[0m\n",
            "\u001b[0;32m/usr/local/lib/python3.10/dist-packages/transformers/tokenization_utils_base.py\u001b[0m in \u001b[0;36mbatch_decode\u001b[0;34m(self, sequences, skip_special_tokens, clean_up_tokenization_spaces, **kwargs)\u001b[0m\n\u001b[1;32m   3444\u001b[0m             \u001b[0;31m`\u001b[0m\u001b[0mList\u001b[0m\u001b[0;34m[\u001b[0m\u001b[0mstr\u001b[0m\u001b[0;34m]\u001b[0m\u001b[0;31m`\u001b[0m\u001b[0;34m:\u001b[0m \u001b[0mThe\u001b[0m \u001b[0mlist\u001b[0m \u001b[0mof\u001b[0m \u001b[0mdecoded\u001b[0m \u001b[0msentences\u001b[0m\u001b[0;34m.\u001b[0m\u001b[0;34m\u001b[0m\u001b[0;34m\u001b[0m\u001b[0m\n\u001b[1;32m   3445\u001b[0m         \"\"\"\n\u001b[0;32m-> 3446\u001b[0;31m         return [\n\u001b[0m\u001b[1;32m   3447\u001b[0m             self.decode(\n\u001b[1;32m   3448\u001b[0m                 \u001b[0mseq\u001b[0m\u001b[0;34m,\u001b[0m\u001b[0;34m\u001b[0m\u001b[0;34m\u001b[0m\u001b[0m\n",
            "\u001b[0;32m/usr/local/lib/python3.10/dist-packages/transformers/tokenization_utils_base.py\u001b[0m in \u001b[0;36m<listcomp>\u001b[0;34m(.0)\u001b[0m\n\u001b[1;32m   3445\u001b[0m         \"\"\"\n\u001b[1;32m   3446\u001b[0m         return [\n\u001b[0;32m-> 3447\u001b[0;31m             self.decode(\n\u001b[0m\u001b[1;32m   3448\u001b[0m                 \u001b[0mseq\u001b[0m\u001b[0;34m,\u001b[0m\u001b[0;34m\u001b[0m\u001b[0;34m\u001b[0m\u001b[0m\n\u001b[1;32m   3449\u001b[0m                 \u001b[0mskip_special_tokens\u001b[0m\u001b[0;34m=\u001b[0m\u001b[0mskip_special_tokens\u001b[0m\u001b[0;34m,\u001b[0m\u001b[0;34m\u001b[0m\u001b[0;34m\u001b[0m\u001b[0m\n",
            "\u001b[0;32m/usr/local/lib/python3.10/dist-packages/transformers/tokenization_utils_base.py\u001b[0m in \u001b[0;36mdecode\u001b[0;34m(self, token_ids, skip_special_tokens, clean_up_tokenization_spaces, **kwargs)\u001b[0m\n\u001b[1;32m   3484\u001b[0m         \u001b[0mtoken_ids\u001b[0m \u001b[0;34m=\u001b[0m \u001b[0mto_py_obj\u001b[0m\u001b[0;34m(\u001b[0m\u001b[0mtoken_ids\u001b[0m\u001b[0;34m)\u001b[0m\u001b[0;34m\u001b[0m\u001b[0;34m\u001b[0m\u001b[0m\n\u001b[1;32m   3485\u001b[0m \u001b[0;34m\u001b[0m\u001b[0m\n\u001b[0;32m-> 3486\u001b[0;31m         return self._decode(\n\u001b[0m\u001b[1;32m   3487\u001b[0m             \u001b[0mtoken_ids\u001b[0m\u001b[0;34m=\u001b[0m\u001b[0mtoken_ids\u001b[0m\u001b[0;34m,\u001b[0m\u001b[0;34m\u001b[0m\u001b[0;34m\u001b[0m\u001b[0m\n\u001b[1;32m   3488\u001b[0m             \u001b[0mskip_special_tokens\u001b[0m\u001b[0;34m=\u001b[0m\u001b[0mskip_special_tokens\u001b[0m\u001b[0;34m,\u001b[0m\u001b[0;34m\u001b[0m\u001b[0;34m\u001b[0m\u001b[0m\n",
            "\u001b[0;32m/usr/local/lib/python3.10/dist-packages/transformers/tokenization_utils.py\u001b[0m in \u001b[0;36m_decode\u001b[0;34m(self, token_ids, skip_special_tokens, clean_up_tokenization_spaces, spaces_between_special_tokens, **kwargs)\u001b[0m\n\u001b[1;32m    929\u001b[0m         \u001b[0mself\u001b[0m\u001b[0;34m.\u001b[0m\u001b[0m_decode_use_source_tokenizer\u001b[0m \u001b[0;34m=\u001b[0m \u001b[0mkwargs\u001b[0m\u001b[0;34m.\u001b[0m\u001b[0mpop\u001b[0m\u001b[0;34m(\u001b[0m\u001b[0;34m\"use_source_tokenizer\"\u001b[0m\u001b[0;34m,\u001b[0m \u001b[0;32mFalse\u001b[0m\u001b[0;34m)\u001b[0m\u001b[0;34m\u001b[0m\u001b[0;34m\u001b[0m\u001b[0m\n\u001b[1;32m    930\u001b[0m \u001b[0;34m\u001b[0m\u001b[0m\n\u001b[0;32m--> 931\u001b[0;31m         \u001b[0mfiltered_tokens\u001b[0m \u001b[0;34m=\u001b[0m \u001b[0mself\u001b[0m\u001b[0;34m.\u001b[0m\u001b[0mconvert_ids_to_tokens\u001b[0m\u001b[0;34m(\u001b[0m\u001b[0mtoken_ids\u001b[0m\u001b[0;34m,\u001b[0m \u001b[0mskip_special_tokens\u001b[0m\u001b[0;34m=\u001b[0m\u001b[0mskip_special_tokens\u001b[0m\u001b[0;34m)\u001b[0m\u001b[0;34m\u001b[0m\u001b[0;34m\u001b[0m\u001b[0m\n\u001b[0m\u001b[1;32m    932\u001b[0m \u001b[0;34m\u001b[0m\u001b[0m\n\u001b[1;32m    933\u001b[0m         \u001b[0;31m# To avoid mixing byte-level and unicode for byte-level BPT\u001b[0m\u001b[0;34m\u001b[0m\u001b[0;34m\u001b[0m\u001b[0m\n",
            "\u001b[0;32m/usr/local/lib/python3.10/dist-packages/transformers/tokenization_utils.py\u001b[0m in \u001b[0;36mconvert_ids_to_tokens\u001b[0;34m(self, ids, skip_special_tokens)\u001b[0m\n\u001b[1;32m    905\u001b[0m         \u001b[0;32mfor\u001b[0m \u001b[0mindex\u001b[0m \u001b[0;32min\u001b[0m \u001b[0mids\u001b[0m\u001b[0;34m:\u001b[0m\u001b[0;34m\u001b[0m\u001b[0;34m\u001b[0m\u001b[0m\n\u001b[1;32m    906\u001b[0m             \u001b[0mindex\u001b[0m \u001b[0;34m=\u001b[0m \u001b[0mint\u001b[0m\u001b[0;34m(\u001b[0m\u001b[0mindex\u001b[0m\u001b[0;34m)\u001b[0m\u001b[0;34m\u001b[0m\u001b[0;34m\u001b[0m\u001b[0m\n\u001b[0;32m--> 907\u001b[0;31m             \u001b[0;32mif\u001b[0m \u001b[0mskip_special_tokens\u001b[0m \u001b[0;32mand\u001b[0m \u001b[0mindex\u001b[0m \u001b[0;32min\u001b[0m \u001b[0mself\u001b[0m\u001b[0;34m.\u001b[0m\u001b[0mall_special_ids\u001b[0m\u001b[0;34m:\u001b[0m\u001b[0;34m\u001b[0m\u001b[0;34m\u001b[0m\u001b[0m\n\u001b[0m\u001b[1;32m    908\u001b[0m                 \u001b[0;32mcontinue\u001b[0m\u001b[0;34m\u001b[0m\u001b[0;34m\u001b[0m\u001b[0m\n\u001b[1;32m    909\u001b[0m             \u001b[0;32mif\u001b[0m \u001b[0mindex\u001b[0m \u001b[0;32min\u001b[0m \u001b[0mself\u001b[0m\u001b[0;34m.\u001b[0m\u001b[0madded_tokens_decoder\u001b[0m\u001b[0;34m:\u001b[0m\u001b[0;34m\u001b[0m\u001b[0;34m\u001b[0m\u001b[0m\n",
            "\u001b[0;32m/usr/local/lib/python3.10/dist-packages/transformers/tokenization_utils_base.py\u001b[0m in \u001b[0;36mall_special_ids\u001b[0;34m(self)\u001b[0m\n\u001b[1;32m   1296\u001b[0m         \"\"\"\n\u001b[1;32m   1297\u001b[0m         \u001b[0mall_toks\u001b[0m \u001b[0;34m=\u001b[0m \u001b[0mself\u001b[0m\u001b[0;34m.\u001b[0m\u001b[0mall_special_tokens\u001b[0m\u001b[0;34m\u001b[0m\u001b[0;34m\u001b[0m\u001b[0m\n\u001b[0;32m-> 1298\u001b[0;31m         \u001b[0mall_ids\u001b[0m \u001b[0;34m=\u001b[0m \u001b[0mself\u001b[0m\u001b[0;34m.\u001b[0m\u001b[0mconvert_tokens_to_ids\u001b[0m\u001b[0;34m(\u001b[0m\u001b[0mall_toks\u001b[0m\u001b[0;34m)\u001b[0m\u001b[0;34m\u001b[0m\u001b[0;34m\u001b[0m\u001b[0m\n\u001b[0m\u001b[1;32m   1299\u001b[0m         \u001b[0;32mreturn\u001b[0m \u001b[0mall_ids\u001b[0m\u001b[0;34m\u001b[0m\u001b[0;34m\u001b[0m\u001b[0m\n\u001b[1;32m   1300\u001b[0m \u001b[0;34m\u001b[0m\u001b[0m\n",
            "\u001b[0;32m/usr/local/lib/python3.10/dist-packages/transformers/tokenization_utils.py\u001b[0m in \u001b[0;36mconvert_tokens_to_ids\u001b[0;34m(self, tokens)\u001b[0m\n\u001b[1;32m    577\u001b[0m         \u001b[0mids\u001b[0m \u001b[0;34m=\u001b[0m \u001b[0;34m[\u001b[0m\u001b[0;34m]\u001b[0m\u001b[0;34m\u001b[0m\u001b[0;34m\u001b[0m\u001b[0m\n\u001b[1;32m    578\u001b[0m         \u001b[0;32mfor\u001b[0m \u001b[0mtoken\u001b[0m \u001b[0;32min\u001b[0m \u001b[0mtokens\u001b[0m\u001b[0;34m:\u001b[0m\u001b[0;34m\u001b[0m\u001b[0;34m\u001b[0m\u001b[0m\n\u001b[0;32m--> 579\u001b[0;31m             \u001b[0mids\u001b[0m\u001b[0;34m.\u001b[0m\u001b[0mappend\u001b[0m\u001b[0;34m(\u001b[0m\u001b[0mself\u001b[0m\u001b[0;34m.\u001b[0m\u001b[0m_convert_token_to_id_with_added_voc\u001b[0m\u001b[0;34m(\u001b[0m\u001b[0mtoken\u001b[0m\u001b[0;34m)\u001b[0m\u001b[0;34m)\u001b[0m\u001b[0;34m\u001b[0m\u001b[0;34m\u001b[0m\u001b[0m\n\u001b[0m\u001b[1;32m    580\u001b[0m         \u001b[0;32mreturn\u001b[0m \u001b[0mids\u001b[0m\u001b[0;34m\u001b[0m\u001b[0;34m\u001b[0m\u001b[0m\n\u001b[1;32m    581\u001b[0m \u001b[0;34m\u001b[0m\u001b[0m\n",
            "\u001b[0;32m/usr/local/lib/python3.10/dist-packages/transformers/tokenization_utils.py\u001b[0m in \u001b[0;36m_convert_token_to_id_with_added_voc\u001b[0;34m(self, token)\u001b[0m\n\u001b[1;32m    586\u001b[0m         \u001b[0;32mif\u001b[0m \u001b[0mtoken\u001b[0m \u001b[0;32min\u001b[0m \u001b[0mself\u001b[0m\u001b[0;34m.\u001b[0m\u001b[0madded_tokens_encoder\u001b[0m\u001b[0;34m:\u001b[0m\u001b[0;34m\u001b[0m\u001b[0;34m\u001b[0m\u001b[0m\n\u001b[1;32m    587\u001b[0m             \u001b[0;32mreturn\u001b[0m \u001b[0mself\u001b[0m\u001b[0;34m.\u001b[0m\u001b[0madded_tokens_encoder\u001b[0m\u001b[0;34m[\u001b[0m\u001b[0mtoken\u001b[0m\u001b[0;34m]\u001b[0m\u001b[0;34m\u001b[0m\u001b[0;34m\u001b[0m\u001b[0m\n\u001b[0;32m--> 588\u001b[0;31m         \u001b[0;32mreturn\u001b[0m \u001b[0mself\u001b[0m\u001b[0;34m.\u001b[0m\u001b[0m_convert_token_to_id\u001b[0m\u001b[0;34m(\u001b[0m\u001b[0mtoken\u001b[0m\u001b[0;34m)\u001b[0m\u001b[0;34m\u001b[0m\u001b[0;34m\u001b[0m\u001b[0m\n\u001b[0m\u001b[1;32m    589\u001b[0m \u001b[0;34m\u001b[0m\u001b[0m\n\u001b[1;32m    590\u001b[0m     \u001b[0;32mdef\u001b[0m \u001b[0m_convert_token_to_id\u001b[0m\u001b[0;34m(\u001b[0m\u001b[0mself\u001b[0m\u001b[0;34m,\u001b[0m \u001b[0mtoken\u001b[0m\u001b[0;34m)\u001b[0m\u001b[0;34m:\u001b[0m\u001b[0;34m\u001b[0m\u001b[0;34m\u001b[0m\u001b[0m\n",
            "\u001b[0;32m/usr/local/lib/python3.10/dist-packages/transformers/models/t5/tokenization_t5.py\u001b[0m in \u001b[0;36m_convert_token_to_id\u001b[0;34m(self, token)\u001b[0m\n\u001b[1;32m    302\u001b[0m         \u001b[0;34m\"\"\"Converts a token (str) in an id using the vocab.\"\"\"\u001b[0m\u001b[0;34m\u001b[0m\u001b[0;34m\u001b[0m\u001b[0m\n\u001b[1;32m    303\u001b[0m         \u001b[0;32mif\u001b[0m \u001b[0mtoken\u001b[0m\u001b[0;34m.\u001b[0m\u001b[0mstartswith\u001b[0m\u001b[0;34m(\u001b[0m\u001b[0;34m\"<extra_id_\"\u001b[0m\u001b[0;34m)\u001b[0m\u001b[0;34m:\u001b[0m\u001b[0;34m\u001b[0m\u001b[0;34m\u001b[0m\u001b[0m\n\u001b[0;32m--> 304\u001b[0;31m             \u001b[0mmatch\u001b[0m \u001b[0;34m=\u001b[0m \u001b[0mre\u001b[0m\u001b[0;34m.\u001b[0m\u001b[0mmatch\u001b[0m\u001b[0;34m(\u001b[0m\u001b[0;34mr\"<extra_id_(\\d+)>\"\u001b[0m\u001b[0;34m,\u001b[0m \u001b[0mtoken\u001b[0m\u001b[0;34m)\u001b[0m\u001b[0;34m\u001b[0m\u001b[0;34m\u001b[0m\u001b[0m\n\u001b[0m\u001b[1;32m    305\u001b[0m             \u001b[0mnum\u001b[0m \u001b[0;34m=\u001b[0m \u001b[0mint\u001b[0m\u001b[0;34m(\u001b[0m\u001b[0mmatch\u001b[0m\u001b[0;34m.\u001b[0m\u001b[0mgroup\u001b[0m\u001b[0;34m(\u001b[0m\u001b[0;36m1\u001b[0m\u001b[0;34m)\u001b[0m\u001b[0;34m)\u001b[0m\u001b[0;34m\u001b[0m\u001b[0;34m\u001b[0m\u001b[0m\n\u001b[1;32m    306\u001b[0m             \u001b[0;32mreturn\u001b[0m \u001b[0mself\u001b[0m\u001b[0;34m.\u001b[0m\u001b[0mvocab_size\u001b[0m \u001b[0;34m-\u001b[0m \u001b[0mnum\u001b[0m \u001b[0;34m-\u001b[0m \u001b[0;36m1\u001b[0m\u001b[0;34m\u001b[0m\u001b[0;34m\u001b[0m\u001b[0m\n",
            "\u001b[0;32m/usr/lib/python3.10/re.py\u001b[0m in \u001b[0;36mmatch\u001b[0;34m(pattern, string, flags)\u001b[0m\n\u001b[1;32m    188\u001b[0m     \"\"\"Try to apply the pattern at the start of the string, returning\n\u001b[1;32m    189\u001b[0m     a Match object, or None if no match was found.\"\"\"\n\u001b[0;32m--> 190\u001b[0;31m     \u001b[0;32mreturn\u001b[0m \u001b[0m_compile\u001b[0m\u001b[0;34m(\u001b[0m\u001b[0mpattern\u001b[0m\u001b[0;34m,\u001b[0m \u001b[0mflags\u001b[0m\u001b[0;34m)\u001b[0m\u001b[0;34m.\u001b[0m\u001b[0mmatch\u001b[0m\u001b[0;34m(\u001b[0m\u001b[0mstring\u001b[0m\u001b[0;34m)\u001b[0m\u001b[0;34m\u001b[0m\u001b[0;34m\u001b[0m\u001b[0m\n\u001b[0m\u001b[1;32m    191\u001b[0m \u001b[0;34m\u001b[0m\u001b[0m\n\u001b[1;32m    192\u001b[0m \u001b[0;32mdef\u001b[0m \u001b[0mfullmatch\u001b[0m\u001b[0;34m(\u001b[0m\u001b[0mpattern\u001b[0m\u001b[0;34m,\u001b[0m \u001b[0mstring\u001b[0m\u001b[0;34m,\u001b[0m \u001b[0mflags\u001b[0m\u001b[0;34m=\u001b[0m\u001b[0;36m0\u001b[0m\u001b[0;34m)\u001b[0m\u001b[0;34m:\u001b[0m\u001b[0;34m\u001b[0m\u001b[0;34m\u001b[0m\u001b[0m\n",
            "\u001b[0;31mKeyboardInterrupt\u001b[0m: "
          ]
        }
      ]
    },
    {
      "cell_type": "code",
      "source": [
        "model_name = '/content/drive/MyDrive/LMS_Document/Code/t5_gec_model_04'\n",
        "# model_name = '/content/drive/MyDrive/LMS_Document/Code/textmodel_ok'\n",
        "\n",
        "trainer.save_model(model_name)"
      ],
      "metadata": {
        "id": "yIkeGbykntXp",
        "execution": {
          "iopub.status.busy": "2023-09-29T12:44:11.990140Z",
          "iopub.execute_input": "2023-09-29T12:44:11.990533Z",
          "iopub.status.idle": "2023-09-29T12:44:13.435449Z",
          "shell.execute_reply.started": "2023-09-29T12:44:11.990500Z",
          "shell.execute_reply": "2023-09-29T12:44:13.434331Z"
        },
        "trusted": true
      },
      "execution_count": null,
      "outputs": []
    },
    {
      "cell_type": "code",
      "source": [
        "# ! zip -r /content/t5_gec_model_04 . -i t5_gec_model_04/\n",
        "# !zip '/content/t5_gec_model_04'\n"
      ],
      "metadata": {
        "id": "uvoTQ_e-nyqi",
        "execution": {
          "iopub.status.busy": "2023-09-29T14:14:42.933275Z",
          "iopub.execute_input": "2023-09-29T14:14:42.933636Z",
          "iopub.status.idle": "2023-09-29T14:15:35.557560Z",
          "shell.execute_reply.started": "2023-09-29T14:14:42.933604Z",
          "shell.execute_reply": "2023-09-29T14:15:35.556378Z"
        },
        "trusted": true
      },
      "execution_count": null,
      "outputs": []
    },
    {
      "cell_type": "markdown",
      "source": [
        "  <a href=\"/content/t5_gec_model_03\"> Download File </a>"
      ],
      "metadata": {
        "execution": {
          "iopub.status.busy": "2023-09-29T14:07:49.282502Z",
          "iopub.execute_input": "2023-09-29T14:07:49.282913Z",
          "iopub.status.idle": "2023-09-29T14:07:49.297731Z",
          "shell.execute_reply.started": "2023-09-29T14:07:49.282883Z",
          "shell.execute_reply": "2023-09-29T14:07:49.295877Z"
        },
        "id": "l27t_29guQPc"
      }
    },
    {
      "cell_type": "code",
      "source": [
        "import zipfile\n",
        "import os\n",
        "from IPython.display import FileLink\n",
        "\n",
        "def zip_dir(directory = os.curdir, file_name = 't5_gec_model_02.zip'):\n",
        "    \"\"\"\n",
        "    zip all the files in a directory\n",
        "\n",
        "    Parameters\n",
        "    _____\n",
        "    directory: str\n",
        "        directory needs to be zipped, defualt is current working directory\n",
        "\n",
        "    file_name: str\n",
        "        the name of the zipped file (including .zip), default is 'directory.zip'\n",
        "\n",
        "    Returns\n",
        "    _____\n",
        "    Creates a hyperlink, which can be used to download the zip file)\n",
        "    \"\"\"\n",
        "    os.chdir(directory)\n",
        "    zip_ref = zipfile.ZipFile(file_name, mode='w')\n",
        "    for folder, _, files in os.walk(directory):\n",
        "        for file in files:\n",
        "            if file_name in file:\n",
        "                pass\n",
        "            else:\n",
        "                zip_ref.write(os.path.join(folder, file))\n",
        "\n",
        "    return FileLink(file_name)"
      ],
      "metadata": {
        "execution": {
          "iopub.status.busy": "2023-09-29T14:18:27.396082Z",
          "iopub.execute_input": "2023-09-29T14:18:27.396432Z",
          "iopub.status.idle": "2023-09-29T14:18:27.404013Z",
          "shell.execute_reply.started": "2023-09-29T14:18:27.396404Z",
          "shell.execute_reply": "2023-09-29T14:18:27.402946Z"
        },
        "trusted": true,
        "id": "kP6JTUPAuQPd"
      },
      "execution_count": null,
      "outputs": []
    },
    {
      "cell_type": "code",
      "source": [
        "zip_dir()"
      ],
      "metadata": {
        "execution": {
          "iopub.status.busy": "2023-09-29T14:18:28.062274Z",
          "iopub.execute_input": "2023-09-29T14:18:28.062637Z",
          "iopub.status.idle": "2023-09-29T14:18:43.655849Z",
          "shell.execute_reply.started": "2023-09-29T14:18:28.062606Z",
          "shell.execute_reply": "2023-09-29T14:18:43.644269Z"
        },
        "trusted": true,
        "id": "lyLwBAJPuQPd",
        "outputId": "f3593cb2-5e98-4d5a-e865-a5ca819b2d18"
      },
      "execution_count": null,
      "outputs": [
        {
          "execution_count": 114,
          "output_type": "execute_result",
          "data": {
            "text/plain": "/kaggle/working/t5_gec_model_02.zip",
            "text/html": "<a href='t5_gec_model_02.zip' target='_blank'>t5_gec_model_02.zip</a><br>"
          },
          "metadata": {}
        }
      ]
    },
    {
      "cell_type": "markdown",
      "source": [
        "## Testing"
      ],
      "metadata": {
        "id": "mQzJE6ybKPaR"
      }
    },
    {
      "cell_type": "code",
      "source": [
        "import torch\n",
        "from transformers import T5Tokenizer, T5ForConditionalGeneration\n",
        "# model_name = 'deep-learning-analytics/GrammarCorrector'\n",
        "model_name = '/kaggle/working/t5_gec_model_02'\n",
        "torch_device = 'cuda' if torch.cuda.is_available() else 'cpu'\n",
        "tokenizer = T5Tokenizer.from_pretrained(model_name)\n",
        "model = T5ForConditionalGeneration.from_pretrained(model_name).to(torch_device)\n",
        "\n",
        "def correct_grammar(input_text,num_return_sequences):\n",
        "  batch = tokenizer([input_text],truncation=True,padding='max_length',max_length=64, return_tensors=\"pt\").to(torch_device)\n",
        "  translated = model.generate(**batch,max_length=64,num_beams=4, num_return_sequences=num_return_sequences, temperature=1.5)\n",
        "  tgt_text = tokenizer.batch_decode(translated, skip_special_tokens=True)\n",
        "  return tgt_text"
      ],
      "metadata": {
        "id": "lqDyDu5GKOrg",
        "execution": {
          "iopub.status.busy": "2023-09-29T13:01:45.196945Z",
          "iopub.execute_input": "2023-09-29T13:01:45.197335Z",
          "iopub.status.idle": "2023-09-29T13:01:49.044568Z",
          "shell.execute_reply.started": "2023-09-29T13:01:45.197303Z",
          "shell.execute_reply": "2023-09-29T13:01:49.043260Z"
        },
        "trusted": true
      },
      "execution_count": null,
      "outputs": []
    },
    {
      "cell_type": "code",
      "source": [
        "input_text = \"I am enjoys, writtings Articles ons AI and I also enjoyed write articling on AI.\"\n",
        "num_return_sequences = 1\n",
        "corrected_text = correct_grammar(input_text, num_return_sequences)\n",
        "print(corrected_text)\n"
      ],
      "metadata": {
        "colab": {
          "base_uri": "https://localhost:8080/"
        },
        "id": "bW30ofSyHbXU",
        "outputId": "74b9c33f-a3cb-4695-f554-6369bde9faf4",
        "execution": {
          "iopub.status.busy": "2023-09-29T13:01:49.050381Z",
          "iopub.execute_input": "2023-09-29T13:01:49.051167Z",
          "iopub.status.idle": "2023-09-29T13:01:49.349023Z",
          "shell.execute_reply.started": "2023-09-29T13:01:49.051130Z",
          "shell.execute_reply": "2023-09-29T13:01:49.347975Z"
        },
        "trusted": true
      },
      "execution_count": null,
      "outputs": [
        {
          "name": "stderr",
          "text": "/opt/conda/lib/python3.10/site-packages/transformers/generation/configuration_utils.py:362: UserWarning: `do_sample` is set to `False`. However, `temperature` is set to `1.5` -- this flag is only used in sample-based generation modes. You should set `do_sample=True` or unset `temperature`.\n  logger.info(f\"Configuration saved in {output_config_file}\")\n",
          "output_type": "stream"
        },
        {
          "name": "stdout",
          "text": "['I enjoy writing articles on AI and I also enjoy writing articles on AI.']\n",
          "output_type": "stream"
        }
      ]
    },
    {
      "cell_type": "code",
      "source": [
        "text = 'They could culture more land and grows food a lot more.'\n",
        "print(correct_grammar(text, num_return_sequences=3))"
      ],
      "metadata": {
        "colab": {
          "base_uri": "https://localhost:8080/"
        },
        "id": "mMm8PGpMhYxl",
        "outputId": "ffb3abfa-4a64-4c0f-9b24-1fca66a67107",
        "execution": {
          "iopub.status.busy": "2023-09-29T13:02:09.893637Z",
          "iopub.execute_input": "2023-09-29T13:02:09.894006Z",
          "iopub.status.idle": "2023-09-29T13:02:10.182949Z",
          "shell.execute_reply.started": "2023-09-29T13:02:09.893976Z",
          "shell.execute_reply": "2023-09-29T13:02:10.181973Z"
        },
        "trusted": true
      },
      "execution_count": null,
      "outputs": [
        {
          "name": "stdout",
          "text": "['They could cultivate more land and grow food a lot more.', 'They could culture more land and grow food a lot more.', 'They could grow more land and grow food a lot more.']\n",
          "output_type": "stream"
        }
      ]
    },
    {
      "cell_type": "code",
      "source": [
        "text = 'he are an teachers'\n",
        "print(correct_grammar(text, num_return_sequences=2))"
      ],
      "metadata": {
        "id": "8qLMT5DyvsKT",
        "colab": {
          "base_uri": "https://localhost:8080/"
        },
        "outputId": "f8d67c7e-3d57-4d81-e952-1f85f51bcd23",
        "execution": {
          "iopub.status.busy": "2023-09-29T13:02:37.780204Z",
          "iopub.execute_input": "2023-09-29T13:02:37.780796Z",
          "iopub.status.idle": "2023-09-29T13:02:38.089144Z",
          "shell.execute_reply.started": "2023-09-29T13:02:37.780736Z",
          "shell.execute_reply": "2023-09-29T13:02:38.088014Z"
        },
        "trusted": true
      },
      "execution_count": null,
      "outputs": [
        {
          "name": "stdout",
          "text": "['he is a teacher.', 'he is an educator.']\n",
          "output_type": "stream"
        }
      ]
    },
    {
      "cell_type": "code",
      "source": [
        "text =  \"\"\"The pie charts illustrate the number of houses owned and rented in the UK in 1991 and 2007.\n",
        "Overall, homeowners were the most popular typing housing, with more than half the total over the period shown. In addition, the number of people with private renting was stable, whereas the figures for social renting and social housing experienced a decrease.\n",
        "\"\"\"\n",
        "print(correct_grammar(text, num_return_sequences))"
      ],
      "metadata": {
        "id": "AX_peD3xh-fH",
        "execution": {
          "iopub.status.busy": "2023-09-29T13:38:29.384272Z",
          "iopub.execute_input": "2023-09-29T13:38:29.385314Z",
          "iopub.status.idle": "2023-09-29T13:38:30.387682Z",
          "shell.execute_reply.started": "2023-09-29T13:38:29.385277Z",
          "shell.execute_reply": "2023-09-29T13:38:30.386730Z"
        },
        "trusted": true,
        "outputId": "26c3f6bc-0f0f-42f8-8822-6cd4298acd54"
      },
      "execution_count": null,
      "outputs": [
        {
          "name": "stdout",
          "text": "['The pie charts illustrate the number of houses owned and rented in the UK in 1991 and 2007. Overall, homeowners were the most popular type of housing, with more than half the total over the period shown. In addition, the number of people with private renting was stable, whereas the figures for social renting and social']\n",
          "output_type": "stream"
        }
      ]
    },
    {
      "cell_type": "code",
      "source": [],
      "metadata": {
        "id": "fM2Nn9mJuQPi"
      },
      "execution_count": null,
      "outputs": []
    }
  ]
}